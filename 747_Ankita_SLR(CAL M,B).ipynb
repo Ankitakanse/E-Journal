{
 "cells": [
  {
   "cell_type": "markdown",
   "id": "52c963c5",
   "metadata": {},
   "source": [
    "# Aim :- Write a python program for simple linear regression & Calculate slope & y-intercept."
   ]
  },
  {
   "cell_type": "code",
   "execution_count": 1,
   "id": "e9a5997f",
   "metadata": {},
   "outputs": [],
   "source": [
    "import pandas as pd"
   ]
  },
  {
   "cell_type": "code",
   "execution_count": 2,
   "id": "9837e747",
   "metadata": {},
   "outputs": [
    {
     "data": {
      "text/html": [
       "<div>\n",
       "<style scoped>\n",
       "    .dataframe tbody tr th:only-of-type {\n",
       "        vertical-align: middle;\n",
       "    }\n",
       "\n",
       "    .dataframe tbody tr th {\n",
       "        vertical-align: top;\n",
       "    }\n",
       "\n",
       "    .dataframe thead th {\n",
       "        text-align: right;\n",
       "    }\n",
       "</style>\n",
       "<table border=\"1\" class=\"dataframe\">\n",
       "  <thead>\n",
       "    <tr style=\"text-align: right;\">\n",
       "      <th></th>\n",
       "      <th>Experience</th>\n",
       "      <th>Salary</th>\n",
       "    </tr>\n",
       "  </thead>\n",
       "  <tbody>\n",
       "    <tr>\n",
       "      <th>0</th>\n",
       "      <td>1</td>\n",
       "      <td>2</td>\n",
       "    </tr>\n",
       "    <tr>\n",
       "      <th>1</th>\n",
       "      <td>2</td>\n",
       "      <td>5</td>\n",
       "    </tr>\n",
       "    <tr>\n",
       "      <th>2</th>\n",
       "      <td>3</td>\n",
       "      <td>3</td>\n",
       "    </tr>\n",
       "    <tr>\n",
       "      <th>3</th>\n",
       "      <td>4</td>\n",
       "      <td>8</td>\n",
       "    </tr>\n",
       "    <tr>\n",
       "      <th>4</th>\n",
       "      <td>5</td>\n",
       "      <td>7</td>\n",
       "    </tr>\n",
       "  </tbody>\n",
       "</table>\n",
       "</div>"
      ],
      "text/plain": [
       "   Experience  Salary\n",
       "0           1       2\n",
       "1           2       5\n",
       "2           3       3\n",
       "3           4       8\n",
       "4           5       7"
      ]
     },
     "execution_count": 2,
     "metadata": {},
     "output_type": "execute_result"
    }
   ],
   "source": [
    "df=pd.DataFrame({\"Experience\":[1,2,3,4,5],\n",
    "    \"Salary\":[2,5,3,8,7]})\n",
    "\n",
    "import numpy as np\n",
    "\n",
    "df"
   ]
  },
  {
   "cell_type": "code",
   "execution_count": 57,
   "id": "5c9c0597",
   "metadata": {},
   "outputs": [],
   "source": [
    "class mysimplelr:\n",
    "    def __init__(self):\n",
    "        self.m=None\n",
    "        self.b=None\n",
    "        \n",
    "    def fit(self,x_train,y_train):\n",
    "        num=0\n",
    "        den=0\n",
    "        \n",
    "        for i in range(x_train.shape[0]):\n",
    "            num=num+((x_train[i]-x_train.mean())*(y_train[i]-y_train.mean()))\n",
    "            den=den+ (x_train[i]-x_train.mean())**2\n",
    "                     \n",
    "        self.m =num/den\n",
    "        self.b=y_train.mean()-(self.m*x_train.mean())\n",
    "        print(self.m)\n",
    "        print(self.b)\n",
    "                     \n",
    "    def predict(self,x_test):\n",
    "        return self.m * x_test+self.b  "
   ]
  },
  {
   "cell_type": "code",
   "execution_count": 48,
   "id": "f9da3ac3",
   "metadata": {},
   "outputs": [],
   "source": [
    "lr=mysimplelr()"
   ]
  },
  {
   "cell_type": "code",
   "execution_count": 49,
   "id": "4a1c56bc",
   "metadata": {},
   "outputs": [
    {
     "name": "stdout",
     "output_type": "stream",
     "text": [
      "1.3\n",
      "1.0999999999999996\n"
     ]
    }
   ],
   "source": [
    "lr.fit(df['Experience'],df['Salary'])"
   ]
  },
  {
   "cell_type": "code",
   "execution_count": 50,
   "id": "c2323937",
   "metadata": {},
   "outputs": [
    {
     "data": {
      "text/plain": [
       "8.9"
      ]
     },
     "execution_count": 50,
     "metadata": {},
     "output_type": "execute_result"
    }
   ],
   "source": [
    "lr.predict(6)"
   ]
  },
  {
   "cell_type": "code",
   "execution_count": 33,
   "id": "9076bf5d",
   "metadata": {},
   "outputs": [],
   "source": [
    "import matplotlib.pylab as plt"
   ]
  },
  {
   "cell_type": "code",
   "execution_count": 35,
   "id": "ce81b15c",
   "metadata": {},
   "outputs": [
    {
     "data": {
      "text/plain": [
       "[<matplotlib.lines.Line2D at 0x1c5fa1d5250>]"
      ]
     },
     "execution_count": 35,
     "metadata": {},
     "output_type": "execute_result"
    },
    {
     "data": {
      "image/png": "[encoded data removed]",
      "text/plain": [
       "<Figure size 432x288 with 1 Axes>"
      ]
     },
     "metadata": {
      "needs_background": "light"
     },
     "output_type": "display_data"
    }
   ],
   "source": [
    "plt.scatter(df['Experience'],df['Salary'])\n",
    "plt.plot(df['Experience'],lr.predict(df['Experience']),color='green')"
   ]
  },
  {
   "cell_type": "code",
   "execution_count": 58,
   "id": "1fdb056d",
   "metadata": {},
   "outputs": [],
   "source": [
    "from simplelinearregression import mysimplelr"
   ]
  },
  {
   "cell_type": "code",
   "execution_count": 59,
   "id": "4874b8b4",
   "metadata": {},
   "outputs": [],
   "source": [
    "lr=mysimplelr()"
   ]
  },
  {
   "cell_type": "code",
   "execution_count": 62,
   "id": "f30a6483",
   "metadata": {},
   "outputs": [
    {
     "data": {
      "text/plain": [
       "8.9"
      ]
     },
     "execution_count": 62,
     "metadata": {},
     "output_type": "execute_result"
    }
   ],
   "source": [
    "lr.predict(6)"
   ]
  },
  {
   "cell_type": "code",
   "execution_count": 61,
   "id": "d988d4b4",
   "metadata": {},
   "outputs": [
    {
     "name": "stdout",
     "output_type": "stream",
     "text": [
      "1.3\n",
      "1.0999999999999996\n"
     ]
    }
   ],
   "source": [
    "lr.fit(df['Experience'],df['Salary'])"
   ]
  },
  {
   "cell_type": "code",
   "execution_count": 63,
   "id": "ed748fa5",
   "metadata": {},
   "outputs": [
    {
     "data": {
      "text/plain": [
       "11.5"
      ]
     },
     "execution_count": 63,
     "metadata": {},
     "output_type": "execute_result"
    }
   ],
   "source": [
    "lr.predict(8)"
   ]
  },
  {
   "cell_type": "code",
   "execution_count": null,
   "id": "26a41ecf",
   "metadata": {},
   "outputs": [],
   "source": []
  }
 ],
 "metadata": {
  "kernelspec": {
   "display_name": "Python 3 (ipykernel)",
   "language": "python",
   "name": "python3"
  },
  "language_info": {
   "codemirror_mode": {
    "name": "ipython",
    "version": 3
   },
   "file_extension": ".py",
   "mimetype": "text/x-python",
   "name": "python",
   "nbconvert_exporter": "python",
   "pygments_lexer": "ipython3",
   "version": "3.9.12"
  }
 },
 "nbformat": 4,
 "nbformat_minor": 5
}
