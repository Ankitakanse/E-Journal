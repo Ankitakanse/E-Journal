{
 "cells": [
  {
   "cell_type": "markdown",
   "id": "ecf2586a",
   "metadata": {},
   "source": [
    "# Feature Scaling"
   ]
  },
  {
   "cell_type": "markdown",
   "id": "9638d150",
   "metadata": {},
   "source": [
    "**<u>Aim </u>:- Demonstrate the purpose of feature scaling and show that feature scaling does not affect the distribution of the data.**"
   ]
  },
  {
   "cell_type": "code",
   "execution_count": 1,
   "id": "4ab91155",
   "metadata": {},
   "outputs": [],
   "source": [
    "import pandas as pd # alliance pd & np\n",
    "import numpy as np"
   ]
  },
  {
   "cell_type": "code",
   "execution_count": 3,
   "id": "ddc89d07",
   "metadata": {},
   "outputs": [
    {
     "data": {
      "text/html": [
       "<div>\n",
       "<style scoped>\n",
       "    .dataframe tbody tr th:only-of-type {\n",
       "        vertical-align: middle;\n",
       "    }\n",
       "\n",
       "    .dataframe tbody tr th {\n",
       "        vertical-align: top;\n",
       "    }\n",
       "\n",
       "    .dataframe thead th {\n",
       "        text-align: right;\n",
       "    }\n",
       "</style>\n",
       "<table border=\"1\" class=\"dataframe\">\n",
       "  <thead>\n",
       "    <tr style=\"text-align: right;\">\n",
       "      <th></th>\n",
       "      <th>Age</th>\n",
       "      <th>EstimatedSalary</th>\n",
       "      <th>Purchased</th>\n",
       "    </tr>\n",
       "  </thead>\n",
       "  <tbody>\n",
       "    <tr>\n",
       "      <th>0</th>\n",
       "      <td>19</td>\n",
       "      <td>19000</td>\n",
       "      <td>0</td>\n",
       "    </tr>\n",
       "    <tr>\n",
       "      <th>1</th>\n",
       "      <td>35</td>\n",
       "      <td>20000</td>\n",
       "      <td>0</td>\n",
       "    </tr>\n",
       "    <tr>\n",
       "      <th>2</th>\n",
       "      <td>26</td>\n",
       "      <td>43000</td>\n",
       "      <td>0</td>\n",
       "    </tr>\n",
       "    <tr>\n",
       "      <th>3</th>\n",
       "      <td>27</td>\n",
       "      <td>57000</td>\n",
       "      <td>0</td>\n",
       "    </tr>\n",
       "    <tr>\n",
       "      <th>4</th>\n",
       "      <td>19</td>\n",
       "      <td>76000</td>\n",
       "      <td>0</td>\n",
       "    </tr>\n",
       "  </tbody>\n",
       "</table>\n",
       "</div>"
      ],
      "text/plain": [
       "   Age  EstimatedSalary  Purchased\n",
       "0   19            19000          0\n",
       "1   35            20000          0\n",
       "2   26            43000          0\n",
       "3   27            57000          0\n",
       "4   19            76000          0"
      ]
     },
     "execution_count": 3,
     "metadata": {},
     "output_type": "execute_result"
    }
   ],
   "source": [
    "df=pd.read_csv(\"Data/Social_Network_Ads.csv\",usecols=['Age','EstimatedSalary','Purchased']) # particular col display use usecols\n",
    "df.head()"
   ]
  },
  {
   "cell_type": "code",
   "execution_count": 4,
   "id": "85bf482c",
   "metadata": {},
   "outputs": [],
   "source": [
    "from sklearn.model_selection import train_test_split"
   ]
  },
  {
   "cell_type": "code",
   "execution_count": 7,
   "id": "e556d01e",
   "metadata": {},
   "outputs": [],
   "source": [
    "# dependent variable drop x\n",
    "x_train,x_test,y_train,y_test=train_test_split(df.drop('Purchased',axis=1),df['Purchased'],test_size= 0.3,random_state=0)"
   ]
  },
  {
   "cell_type": "code",
   "execution_count": 8,
   "id": "086bb8c1",
   "metadata": {},
   "outputs": [
    {
     "data": {
      "text/plain": [
       "(280, 2)"
      ]
     },
     "execution_count": 8,
     "metadata": {},
     "output_type": "execute_result"
    }
   ],
   "source": [
    "x_train.shape"
   ]
  },
  {
   "cell_type": "code",
   "execution_count": 9,
   "id": "2eecc190",
   "metadata": {},
   "outputs": [
    {
     "data": {
      "text/plain": [
       "(120, 2)"
      ]
     },
     "execution_count": 9,
     "metadata": {},
     "output_type": "execute_result"
    }
   ],
   "source": [
    "x_test.shape"
   ]
  },
  {
   "cell_type": "markdown",
   "id": "61d3a070",
   "metadata": {},
   "source": [
    "# Standardization"
   ]
  },
  {
   "cell_type": "code",
   "execution_count": 10,
   "id": "d8236494",
   "metadata": {},
   "outputs": [],
   "source": [
    "from sklearn.preprocessing import StandardScaler"
   ]
  },
  {
   "cell_type": "code",
   "execution_count": 11,
   "id": "98ea64d1",
   "metadata": {},
   "outputs": [],
   "source": [
    "scaler= StandardScaler()"
   ]
  },
  {
   "cell_type": "code",
   "execution_count": 12,
   "id": "40d9d01d",
   "metadata": {},
   "outputs": [
    {
     "data": {
      "text/plain": [
       "StandardScaler()"
      ]
     },
     "execution_count": 12,
     "metadata": {},
     "output_type": "execute_result"
    }
   ],
   "source": [
    "scaler.fit(x_train)"
   ]
  },
  {
   "cell_type": "code",
   "execution_count": 13,
   "id": "eeefec6a",
   "metadata": {},
   "outputs": [],
   "source": [
    "x_train_scaled=scaler.fit_transform(x_train)\n",
    "x_test_scaled=scaler.fit_transform(x_test)"
   ]
  },
  {
   "cell_type": "code",
   "execution_count": 16,
   "id": "fc4ffea0",
   "metadata": {},
   "outputs": [
    {
     "data": {
      "text/plain": [
       "array([3.71666667e+01, 6.95916667e+04])"
      ]
     },
     "execution_count": 16,
     "metadata": {},
     "output_type": "execute_result"
    }
   ],
   "source": [
    "scaler.mean_"
   ]
  },
  {
   "cell_type": "code",
   "execution_count": 23,
   "id": "4ddacd94",
   "metadata": {},
   "outputs": [
    {
     "data": {
      "text/html": [
       "<div>\n",
       "<style scoped>\n",
       "    .dataframe tbody tr th:only-of-type {\n",
       "        vertical-align: middle;\n",
       "    }\n",
       "\n",
       "    .dataframe tbody tr th {\n",
       "        vertical-align: top;\n",
       "    }\n",
       "\n",
       "    .dataframe thead th {\n",
       "        text-align: right;\n",
       "    }\n",
       "</style>\n",
       "<table border=\"1\" class=\"dataframe\">\n",
       "  <thead>\n",
       "    <tr style=\"text-align: right;\">\n",
       "      <th></th>\n",
       "      <th>Age</th>\n",
       "      <th>EstimatedSalary</th>\n",
       "    </tr>\n",
       "  </thead>\n",
       "  <tbody>\n",
       "    <tr>\n",
       "      <th>92</th>\n",
       "      <td>26</td>\n",
       "      <td>15000</td>\n",
       "    </tr>\n",
       "    <tr>\n",
       "      <th>223</th>\n",
       "      <td>60</td>\n",
       "      <td>102000</td>\n",
       "    </tr>\n",
       "    <tr>\n",
       "      <th>234</th>\n",
       "      <td>38</td>\n",
       "      <td>112000</td>\n",
       "    </tr>\n",
       "    <tr>\n",
       "      <th>232</th>\n",
       "      <td>40</td>\n",
       "      <td>107000</td>\n",
       "    </tr>\n",
       "    <tr>\n",
       "      <th>377</th>\n",
       "      <td>42</td>\n",
       "      <td>53000</td>\n",
       "    </tr>\n",
       "    <tr>\n",
       "      <th>...</th>\n",
       "      <td>...</td>\n",
       "      <td>...</td>\n",
       "    </tr>\n",
       "    <tr>\n",
       "      <th>323</th>\n",
       "      <td>48</td>\n",
       "      <td>30000</td>\n",
       "    </tr>\n",
       "    <tr>\n",
       "      <th>192</th>\n",
       "      <td>29</td>\n",
       "      <td>43000</td>\n",
       "    </tr>\n",
       "    <tr>\n",
       "      <th>117</th>\n",
       "      <td>36</td>\n",
       "      <td>52000</td>\n",
       "    </tr>\n",
       "    <tr>\n",
       "      <th>47</th>\n",
       "      <td>27</td>\n",
       "      <td>54000</td>\n",
       "    </tr>\n",
       "    <tr>\n",
       "      <th>172</th>\n",
       "      <td>26</td>\n",
       "      <td>118000</td>\n",
       "    </tr>\n",
       "  </tbody>\n",
       "</table>\n",
       "<p>280 rows × 2 columns</p>\n",
       "</div>"
      ],
      "text/plain": [
       "     Age  EstimatedSalary\n",
       "92    26            15000\n",
       "223   60           102000\n",
       "234   38           112000\n",
       "232   40           107000\n",
       "377   42            53000\n",
       "..   ...              ...\n",
       "323   48            30000\n",
       "192   29            43000\n",
       "117   36            52000\n",
       "47    27            54000\n",
       "172   26           118000\n",
       "\n",
       "[280 rows x 2 columns]"
      ]
     },
     "execution_count": 23,
     "metadata": {},
     "output_type": "execute_result"
    }
   ],
   "source": [
    "x_train"
   ]
  },
  {
   "cell_type": "code",
   "execution_count": 17,
   "id": "68d178bb",
   "metadata": {
    "scrolled": false
   },
   "outputs": [
    {
     "data": {
      "text/plain": [
       "array([[-1.1631724 , -1.5849703 ],\n",
       "       [ 2.17018137,  0.93098672],\n",
       "       [ 0.0133054 ,  1.22017719],\n",
       "       [ 0.20938504,  1.07558195],\n",
       "       [ 0.40546467, -0.48604654],\n",
       "       [-0.28081405, -0.31253226],\n",
       "       [ 0.99370357, -0.8330751 ],\n",
       "       [ 0.99370357,  1.8563962 ],\n",
       "       [ 0.0133054 ,  1.24909623],\n",
       "       [-0.86905295,  2.26126285],\n",
       "       [-1.1631724 , -1.5849703 ],\n",
       "       [ 2.17018137, -0.80415605],\n",
       "       [-1.35925203, -1.46929411],\n",
       "       [ 0.40546467,  2.2901819 ],\n",
       "       [ 0.79762394,  0.75747245],\n",
       "       [-0.96709276, -0.31253226],\n",
       "       [ 0.11134522,  0.75747245],\n",
       "       [-0.96709276,  0.55503912],\n",
       "       [ 0.30742485,  0.06341534],\n",
       "       [ 0.69958412, -1.26686079],\n",
       "       [-0.47689368, -0.0233418 ],\n",
       "       [-1.7514113 ,  0.3526058 ],\n",
       "       [-0.67297331,  0.12125343],\n",
       "       [ 0.40546467,  0.29476771],\n",
       "       [-0.28081405,  0.06341534],\n",
       "       [-0.47689368,  2.2901819 ],\n",
       "       [ 0.20938504,  0.03449629],\n",
       "       [ 1.28782302,  2.20342476],\n",
       "       [ 0.79762394,  0.26584866],\n",
       "       [-0.28081405,  0.15017248],\n",
       "       [ 0.0133054 , -0.54388463],\n",
       "       [-0.18277423,  0.15017248],\n",
       "       [-0.08473441,  0.23692961],\n",
       "       [ 0.0133054 , -0.25469417],\n",
       "       [ 2.17018137,  1.104501  ],\n",
       "       [-1.7514113 ,  0.3526058 ],\n",
       "       [ 1.87606192,  0.12125343],\n",
       "       [ 0.40546467, -0.13901799],\n",
       "       [-1.1631724 ,  0.29476771],\n",
       "       [ 0.79762394,  1.36477242],\n",
       "       [-0.28081405, -0.25469417],\n",
       "       [-1.65337148, -0.05226085],\n",
       "       [-0.96709276, -0.74631796],\n",
       "       [ 0.30742485,  0.49720103],\n",
       "       [-0.08473441, -1.06442747],\n",
       "       [-1.06513258,  0.58395817],\n",
       "       [ 0.11134522, -0.80415605],\n",
       "       [-0.96709276,  1.53828669],\n",
       "       [-0.67297331,  1.39369146],\n",
       "       [-1.26121221,  0.49720103],\n",
       "       [-0.28081405,  0.03449629],\n",
       "       [-0.08473441,  0.00557724],\n",
       "       [-0.28081405, -0.89091319],\n",
       "       [ 0.89566375, -1.35361793],\n",
       "       [-0.28081405,  2.2323438 ],\n",
       "       [ 0.99370357,  1.97207239],\n",
       "       [-1.1631724 ,  0.46828198],\n",
       "       [-1.26121221,  0.26584866],\n",
       "       [ 1.38586284,  1.97207239],\n",
       "       [ 1.28782302, -1.35361793],\n",
       "       [-0.28081405, -0.28361322],\n",
       "       [-0.47689368,  1.24909623],\n",
       "       [-0.77101313,  1.07558195],\n",
       "       [ 0.99370357, -1.06442747],\n",
       "       [ 0.30742485,  0.29476771],\n",
       "       [ 0.99370357,  0.75747245],\n",
       "       [-0.67297331, -1.49821316],\n",
       "       [-0.67297331,  0.03449629],\n",
       "       [ 0.50350449,  1.71180097],\n",
       "       [ 2.07214155,  0.17909152],\n",
       "       [-1.94749093, -0.74631796],\n",
       "       [-0.18277423,  1.39369146],\n",
       "       [ 0.40546467,  0.58395817],\n",
       "       [ 0.89566375, -1.1511846 ],\n",
       "       [-1.1631724 , -0.775237  ],\n",
       "       [ 0.20938504,  0.23692961],\n",
       "       [ 0.79762394, -0.31253226],\n",
       "       [ 2.07214155, -0.80415605],\n",
       "       [ 0.79762394,  0.12125343],\n",
       "       [-0.28081405,  0.61287722],\n",
       "       [-0.96709276, -0.31253226],\n",
       "       [ 0.20938504, -0.37037036],\n",
       "       [ 2.07214155,  2.11666762],\n",
       "       [ 1.87606192, -1.26686079],\n",
       "       [ 1.38586284, -0.91983223],\n",
       "       [ 0.89566375,  1.24909623],\n",
       "       [ 1.48390265,  2.11666762],\n",
       "       [-0.28081405, -1.23794174],\n",
       "       [ 1.97410174,  0.90206768],\n",
       "       [ 0.69958412, -0.71739891],\n",
       "       [-1.45729185,  0.3526058 ],\n",
       "       [ 0.79762394, -1.35361793],\n",
       "       [ 0.40546467, -0.13901799],\n",
       "       [-0.96709276,  0.41044389],\n",
       "       [ 0.0133054 , -0.31253226],\n",
       "       [-1.1631724 ,  0.41044389],\n",
       "       [-0.86905295, -1.2090227 ],\n",
       "       [-0.08473441,  0.03449629],\n",
       "       [-1.55533166, -0.42820845],\n",
       "       [ 0.99370357, -1.00658937],\n",
       "       [ 1.09174339, -1.2090227 ],\n",
       "       [ 0.0133054 , -0.13901799],\n",
       "       [-1.06513258, -1.52713221],\n",
       "       [ 0.79762394, -1.2090227 ],\n",
       "       [ 0.99370357,  2.05882953],\n",
       "       [-1.1631724 , -1.52713221],\n",
       "       [-0.28081405,  0.78639149],\n",
       "       [ 0.11134522, -0.31253226],\n",
       "       [-1.35925203, -1.23794174],\n",
       "       [-0.5749335 , -1.49821316],\n",
       "       [ 0.79762394,  0.52612008],\n",
       "       [-0.28081405, -0.34145131],\n",
       "       [ 1.7780221 , -0.28361322],\n",
       "       [ 0.89566375, -1.03550842],\n",
       "       [ 0.20938504,  0.06341534],\n",
       "       [-0.5749335 ,  0.87314863],\n",
       "       [-1.84945111, -1.41145602],\n",
       "       [-1.26121221,  0.58395817],\n",
       "       [-0.28081405,  0.52612008],\n",
       "       [-0.96709276, -1.09334651],\n",
       "       [ 1.1897832 , -1.44037507],\n",
       "       [ 0.20938504, -0.31253226],\n",
       "       [ 1.1897832 , -0.74631796],\n",
       "       [-0.28081405,  0.06341534],\n",
       "       [ 0.20938504,  2.08774857],\n",
       "       [ 0.79762394, -1.09334651],\n",
       "       [ 0.11134522,  0.03449629],\n",
       "       [-1.7514113 ,  0.12125343],\n",
       "       [-0.86905295,  0.15017248],\n",
       "       [-0.67297331,  0.17909152],\n",
       "       [ 0.89566375, -1.29577984],\n",
       "       [ 0.20938504, -0.25469417],\n",
       "       [-0.37885386,  1.22017719],\n",
       "       [ 0.0133054 ,  0.29476771],\n",
       "       [ 0.40546467,  0.15017248],\n",
       "       [ 0.89566375, -0.65956082],\n",
       "       [ 0.11134522,  0.15017248],\n",
       "       [-1.84945111, -1.29577984],\n",
       "       [-0.08473441,  0.29476771],\n",
       "       [-0.18277423, -0.28361322],\n",
       "       [ 0.30742485, -0.51496559],\n",
       "       [-0.18277423,  1.59612479],\n",
       "       [ 0.99370357, -1.18010365],\n",
       "       [-0.18277423,  1.62504383],\n",
       "       [ 1.28782302,  1.8563962 ],\n",
       "       [-1.06513258, -0.37037036],\n",
       "       [ 0.0133054 ,  0.03449629],\n",
       "       [ 0.11134522, -0.25469417],\n",
       "       [-1.55533166, -1.23794174],\n",
       "       [-0.47689368, -0.28361322],\n",
       "       [ 0.99370357,  0.12125343],\n",
       "       [ 1.97410174, -1.35361793],\n",
       "       [ 1.48390265,  0.06341534],\n",
       "       [-0.5749335 ,  1.36477242],\n",
       "       [ 1.58194247,  0.00557724],\n",
       "       [-0.77101313,  0.29476771],\n",
       "       [ 1.97410174,  0.7285534 ],\n",
       "       [-1.1631724 , -0.51496559],\n",
       "       [ 0.69958412,  0.26584866],\n",
       "       [-1.35925203, -0.42820845],\n",
       "       [ 0.20938504,  0.15017248],\n",
       "       [-0.47689368, -1.2090227 ],\n",
       "       [ 0.6015443 ,  2.00099143],\n",
       "       [-1.55533166, -1.49821316],\n",
       "       [-0.47689368, -0.54388463],\n",
       "       [ 0.50350449,  1.82747716],\n",
       "       [-1.35925203, -1.09334651],\n",
       "       [ 0.79762394, -1.38253697],\n",
       "       [-0.28081405, -0.42820845],\n",
       "       [ 1.58194247,  0.98882482],\n",
       "       [ 0.99370357,  1.42261051],\n",
       "       [-0.28081405, -0.48604654],\n",
       "       [-0.08473441,  2.14558666],\n",
       "       [-1.45729185, -0.11009894],\n",
       "       [-0.08473441,  1.94315334],\n",
       "       [-0.67297331, -0.34145131],\n",
       "       [-0.47689368, -0.8330751 ],\n",
       "       [ 0.69958412, -1.38253697],\n",
       "       [-0.77101313, -1.5849703 ],\n",
       "       [-1.84945111, -1.46929411],\n",
       "       [ 1.09174339,  0.12125343],\n",
       "       [ 0.11134522,  1.50936765],\n",
       "       [-0.28081405,  0.09233438],\n",
       "       [ 0.11134522,  0.03449629],\n",
       "       [-1.35925203, -1.35361793],\n",
       "       [ 0.30742485,  0.06341534],\n",
       "       [-0.86905295,  0.38152485],\n",
       "       [ 1.58194247, -1.26686079],\n",
       "       [-0.28081405, -0.74631796],\n",
       "       [-0.08473441,  0.15017248],\n",
       "       [-0.86905295, -0.65956082],\n",
       "       [-0.67297331, -0.05226085],\n",
       "       [ 0.40546467, -0.45712749],\n",
       "       [-0.77101313,  1.88531525],\n",
       "       [ 1.38586284,  1.27801528],\n",
       "       [ 1.1897832 , -0.97767033],\n",
       "       [ 1.7780221 ,  1.82747716],\n",
       "       [-0.86905295, -0.25469417],\n",
       "       [-0.77101313,  0.55503912],\n",
       "       [-1.1631724 , -1.55605125],\n",
       "       [-0.47689368, -1.12226556],\n",
       "       [ 0.30742485,  0.06341534],\n",
       "       [-0.18277423, -1.06442747],\n",
       "       [ 1.67998229,  1.59612479],\n",
       "       [ 0.99370357,  1.76963906],\n",
       "       [ 0.30742485,  0.03449629],\n",
       "       [-0.77101313, -0.22577513],\n",
       "       [-0.08473441,  0.06341534],\n",
       "       [ 0.30742485, -0.19685608],\n",
       "       [ 1.97410174, -0.65956082],\n",
       "       [-0.77101313,  1.33585337],\n",
       "       [-1.7514113 , -0.60172273],\n",
       "       [-0.08473441,  0.12125343],\n",
       "       [ 0.30742485, -0.31253226],\n",
       "       [ 1.09174339,  0.55503912],\n",
       "       [-0.96709276,  0.26584866],\n",
       "       [ 1.48390265,  0.3526058 ],\n",
       "       [ 0.20938504, -0.37037036],\n",
       "       [ 2.17018137, -1.03550842],\n",
       "       [-0.28081405,  1.104501  ],\n",
       "       [-1.65337148,  0.06341534],\n",
       "       [ 0.0133054 ,  0.03449629],\n",
       "       [ 0.11134522,  1.04666291],\n",
       "       [-0.08473441, -0.37037036],\n",
       "       [-1.1631724 ,  0.06341534],\n",
       "       [-0.28081405, -1.35361793],\n",
       "       [ 1.58194247,  1.104501  ],\n",
       "       [-0.77101313, -1.52713221],\n",
       "       [ 0.11134522,  1.8563962 ],\n",
       "       [-0.86905295, -0.775237  ],\n",
       "       [-0.47689368, -0.775237  ],\n",
       "       [-0.28081405, -0.91983223],\n",
       "       [ 0.30742485, -0.71739891],\n",
       "       [ 0.30742485,  0.06341534],\n",
       "       [ 0.11134522,  1.8563962 ],\n",
       "       [-1.06513258,  1.94315334],\n",
       "       [-1.65337148, -1.55605125],\n",
       "       [-1.1631724 , -1.09334651],\n",
       "       [-0.67297331, -0.11009894],\n",
       "       [ 0.11134522,  0.09233438],\n",
       "       [ 0.30742485,  0.26584866],\n",
       "       [ 0.89566375, -0.57280368],\n",
       "       [ 0.30742485, -1.1511846 ],\n",
       "       [-0.08473441,  0.67071531],\n",
       "       [ 2.17018137, -0.68847986],\n",
       "       [-1.26121221, -1.38253697],\n",
       "       [-0.96709276, -0.94875128],\n",
       "       [ 0.0133054 , -0.42820845],\n",
       "       [-0.18277423, -0.45712749],\n",
       "       [-1.7514113 , -0.97767033],\n",
       "       [ 1.7780221 ,  0.98882482],\n",
       "       [ 0.20938504, -0.37037036],\n",
       "       [ 0.40546467,  1.104501  ],\n",
       "       [-1.7514113 , -1.35361793],\n",
       "       [ 0.20938504, -0.13901799],\n",
       "       [ 0.89566375, -1.44037507],\n",
       "       [-1.94749093,  0.46828198],\n",
       "       [-0.28081405,  0.26584866],\n",
       "       [ 1.87606192, -1.06442747],\n",
       "       [-0.37885386,  0.06341534],\n",
       "       [ 1.09174339, -0.89091319],\n",
       "       [-1.06513258, -1.12226556],\n",
       "       [-1.84945111,  0.00557724],\n",
       "       [ 0.11134522,  0.26584866],\n",
       "       [-1.1631724 ,  0.32368675],\n",
       "       [-1.26121221,  0.29476771],\n",
       "       [-0.96709276,  0.43936294],\n",
       "       [ 1.67998229, -0.89091319],\n",
       "       [ 1.1897832 ,  0.52612008],\n",
       "       [ 1.09174339,  0.52612008],\n",
       "       [ 1.38586284,  2.31910094],\n",
       "       [-0.28081405, -0.13901799],\n",
       "       [ 0.40546467, -0.45712749],\n",
       "       [-0.37885386, -0.775237  ],\n",
       "       [-0.08473441, -0.51496559],\n",
       "       [ 0.99370357, -1.1511846 ],\n",
       "       [-0.86905295, -0.775237  ],\n",
       "       [-0.18277423, -0.51496559],\n",
       "       [-1.06513258, -0.45712749],\n",
       "       [-1.1631724 ,  1.39369146]])"
      ]
     },
     "execution_count": 17,
     "metadata": {},
     "output_type": "execute_result"
    }
   ],
   "source": [
    "x_train_scaled"
   ]
  },
  {
   "cell_type": "code",
   "execution_count": 18,
   "id": "28bd8647",
   "metadata": {},
   "outputs": [
    {
     "data": {
      "text/html": [
       "<div>\n",
       "<style scoped>\n",
       "    .dataframe tbody tr th:only-of-type {\n",
       "        vertical-align: middle;\n",
       "    }\n",
       "\n",
       "    .dataframe tbody tr th {\n",
       "        vertical-align: top;\n",
       "    }\n",
       "\n",
       "    .dataframe thead th {\n",
       "        text-align: right;\n",
       "    }\n",
       "</style>\n",
       "<table border=\"1\" class=\"dataframe\">\n",
       "  <thead>\n",
       "    <tr style=\"text-align: right;\">\n",
       "      <th></th>\n",
       "      <th>Age</th>\n",
       "      <th>EstimatedSalary</th>\n",
       "    </tr>\n",
       "  </thead>\n",
       "  <tbody>\n",
       "    <tr>\n",
       "      <th>0</th>\n",
       "      <td>-1.163172</td>\n",
       "      <td>-1.584970</td>\n",
       "    </tr>\n",
       "    <tr>\n",
       "      <th>1</th>\n",
       "      <td>2.170181</td>\n",
       "      <td>0.930987</td>\n",
       "    </tr>\n",
       "    <tr>\n",
       "      <th>2</th>\n",
       "      <td>0.013305</td>\n",
       "      <td>1.220177</td>\n",
       "    </tr>\n",
       "    <tr>\n",
       "      <th>3</th>\n",
       "      <td>0.209385</td>\n",
       "      <td>1.075582</td>\n",
       "    </tr>\n",
       "    <tr>\n",
       "      <th>4</th>\n",
       "      <td>0.405465</td>\n",
       "      <td>-0.486047</td>\n",
       "    </tr>\n",
       "    <tr>\n",
       "      <th>...</th>\n",
       "      <td>...</td>\n",
       "      <td>...</td>\n",
       "    </tr>\n",
       "    <tr>\n",
       "      <th>275</th>\n",
       "      <td>0.993704</td>\n",
       "      <td>-1.151185</td>\n",
       "    </tr>\n",
       "    <tr>\n",
       "      <th>276</th>\n",
       "      <td>-0.869053</td>\n",
       "      <td>-0.775237</td>\n",
       "    </tr>\n",
       "    <tr>\n",
       "      <th>277</th>\n",
       "      <td>-0.182774</td>\n",
       "      <td>-0.514966</td>\n",
       "    </tr>\n",
       "    <tr>\n",
       "      <th>278</th>\n",
       "      <td>-1.065133</td>\n",
       "      <td>-0.457127</td>\n",
       "    </tr>\n",
       "    <tr>\n",
       "      <th>279</th>\n",
       "      <td>-1.163172</td>\n",
       "      <td>1.393691</td>\n",
       "    </tr>\n",
       "  </tbody>\n",
       "</table>\n",
       "<p>280 rows × 2 columns</p>\n",
       "</div>"
      ],
      "text/plain": [
       "          Age  EstimatedSalary\n",
       "0   -1.163172        -1.584970\n",
       "1    2.170181         0.930987\n",
       "2    0.013305         1.220177\n",
       "3    0.209385         1.075582\n",
       "4    0.405465        -0.486047\n",
       "..        ...              ...\n",
       "275  0.993704        -1.151185\n",
       "276 -0.869053        -0.775237\n",
       "277 -0.182774        -0.514966\n",
       "278 -1.065133        -0.457127\n",
       "279 -1.163172         1.393691\n",
       "\n",
       "[280 rows x 2 columns]"
      ]
     },
     "execution_count": 18,
     "metadata": {},
     "output_type": "execute_result"
    }
   ],
   "source": [
    "x_train_scaled=pd.DataFrame(x_train_scaled,columns=x_train.columns)\n",
    "x_test_scaled=pd.DataFrame(x_test_scaled,columns=x_test.columns)\n",
    "x_train_scaled # dataframe"
   ]
  },
  {
   "cell_type": "code",
   "execution_count": 19,
   "id": "980bc23a",
   "metadata": {},
   "outputs": [
    {
     "data": {
      "image/png": "[encoded data removed]",
      "text/plain": [
       "<Figure size 864x360 with 2 Axes>"
      ]
     },
     "metadata": {
      "needs_background": "light"
     },
     "output_type": "display_data"
    }
   ],
   "source": [
    "import matplotlib.pyplot as plt \n",
    "fig,(ax1,ax2)=plt.subplots(ncols=2,figsize=(12,5))\n",
    "ax1.scatter(x_train['Age'],x_train['EstimatedSalary'])\n",
    "ax1.set_title('Before Scaling')\n",
    "\n",
    "ax2.scatter(x_train_scaled['Age'],x_train_scaled['EstimatedSalary'],color='green')\n",
    "ax2.set_title('After Scaling')\n",
    "plt.show()"
   ]
  },
  {
   "cell_type": "code",
   "execution_count": 22,
   "id": "a8d3b933",
   "metadata": {},
   "outputs": [
    {
     "data": {
      "image/png": "[encoded data removed]",
      "text/plain": [
       "<Figure size 864x360 with 2 Axes>"
      ]
     },
     "metadata": {
      "needs_background": "light"
     },
     "output_type": "display_data"
    }
   ],
   "source": [
    "import seaborn as sns \n",
    "fig,(ax1,ax2)=plt.subplots(ncols=2,figsize=(12,5))\n",
    "\n",
    "ax1.set_title('Before Scaling')\n",
    "sns.kdeplot(x_train['Age'],ax=ax1)\n",
    "sns.kdeplot(x_train['EstimatedSalary'],ax=ax1)\n",
    "\n",
    "ax2.set_title('After Scaling')\n",
    "sns.kdeplot(x_test_scaled['Age'],ax=ax2)\n",
    "sns.kdeplot(x_test_scaled['EstimatedSalary'],ax=ax2)\n",
    "\n",
    "plt.show()"
   ]
  },
  {
   "cell_type": "code",
   "execution_count": null,
   "id": "88677e59",
   "metadata": {},
   "outputs": [],
   "source": []
  }
 ],
 "metadata": {
  "kernelspec": {
   "display_name": "Python 3 (ipykernel)",
   "language": "python",
   "name": "python3"
  },
  "language_info": {
   "codemirror_mode": {
    "name": "ipython",
    "version": 3
   },
   "file_extension": ".py",
   "mimetype": "text/x-python",
   "name": "python",
   "nbconvert_exporter": "python",
   "pygments_lexer": "ipython3",
   "version": "3.9.12"
  }
 },
 "nbformat": 4,
 "nbformat_minor": 5
}
