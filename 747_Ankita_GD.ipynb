{
 "cells": [
  {
   "cell_type": "code",
   "execution_count": 1,
   "metadata": {},
   "outputs": [],
   "source": [
    "import pandas as pd\n",
    "import numpy as np\n",
    "import matplotlib.pyplot as plt"
   ]
  },
  {
   "cell_type": "code",
   "execution_count": 2,
   "metadata": {},
   "outputs": [],
   "source": [
    "from sklearn.datasets import make_regression"
   ]
  },
  {
   "cell_type": "code",
   "execution_count": 3,
   "metadata": {},
   "outputs": [],
   "source": [
    "x,y=make_regression(n_samples=20,n_features=1,noise=6)"
   ]
  },
  {
   "cell_type": "code",
   "execution_count": 4,
   "metadata": {},
   "outputs": [
    {
     "data": {
      "text/plain": [
       "<matplotlib.collections.PathCollection at 0x26d3fac7a60>"
      ]
     },
     "execution_count": 4,
     "metadata": {},
     "output_type": "execute_result"
    },
    {
     "data": {
      "image/png": "[encoded data removed]",
      "text/plain": [
       "<Figure size 432x288 with 1 Axes>"
      ]
     },
     "metadata": {
      "needs_background": "light"
     },
     "output_type": "display_data"
    }
   ],
   "source": [
    "plt.scatter(x,y)"
   ]
  },
  {
   "cell_type": "code",
   "execution_count": 5,
   "metadata": {},
   "outputs": [],
   "source": [
    "from sklearn.linear_model import LinearRegression\n",
    "from sklearn.metrics import mean_squared_error,r2_score"
   ]
  },
  {
   "cell_type": "code",
   "execution_count": 6,
   "metadata": {},
   "outputs": [],
   "source": [
    "lr=LinearRegression()"
   ]
  },
  {
   "cell_type": "code",
   "execution_count": 7,
   "metadata": {},
   "outputs": [
    {
     "data": {
      "text/plain": [
       "LinearRegression()"
      ]
     },
     "execution_count": 7,
     "metadata": {},
     "output_type": "execute_result"
    }
   ],
   "source": [
    "lr.fit(x,y)"
   ]
  },
  {
   "cell_type": "code",
   "execution_count": 8,
   "metadata": {},
   "outputs": [
    {
     "data": {
      "text/plain": [
       "array([34.56640697])"
      ]
     },
     "execution_count": 8,
     "metadata": {},
     "output_type": "execute_result"
    }
   ],
   "source": [
    "m=lr.coef_\n",
    "m"
   ]
  },
  {
   "cell_type": "code",
   "execution_count": 9,
   "metadata": {},
   "outputs": [
    {
     "data": {
      "text/plain": [
       "2.7071747787265625"
      ]
     },
     "execution_count": 9,
     "metadata": {},
     "output_type": "execute_result"
    }
   ],
   "source": [
    "b=lr.intercept_\n",
    "b"
   ]
  },
  {
   "cell_type": "code",
   "execution_count": 10,
   "metadata": {},
   "outputs": [
    {
     "data": {
      "text/plain": [
       "Text(0.5, 1.0, 'Loss : 5.6848000592994135 , Accuracy : 0.9567787953563031')"
      ]
     },
     "execution_count": 10,
     "metadata": {},
     "output_type": "execute_result"
    },
    {
     "data": {
      "image/png": "[encoded data removed]",
      "text/plain": [
       "<Figure size 432x288 with 1 Axes>"
      ]
     },
     "metadata": {
      "needs_background": "light"
     },
     "output_type": "display_data"
    }
   ],
   "source": [
    "plt.plot(x,lr.predict(x),'r-')\n",
    "plt.scatter(x,y)\n",
    "plt.title(f'Loss : {np.sqrt(mean_squared_error(y,lr.predict(x)))} , Accuracy : {r2_score(y,lr.predict(x))}') # f input pass karne ke liye variable print karne ke liye"
   ]
  },
  {
   "cell_type": "code",
   "execution_count": 11,
   "metadata": {},
   "outputs": [
    {
     "data": {
      "text/plain": [
       "array([[-0.67256049],\n",
       "       [-0.01887783],\n",
       "       [-1.31344252],\n",
       "       [-0.76893047],\n",
       "       [-0.15298222],\n",
       "       [-0.64902534],\n",
       "       [-1.64301568],\n",
       "       [-0.75378393],\n",
       "       [ 0.50498242],\n",
       "       [-0.05250881],\n",
       "       [-0.55905701],\n",
       "       [ 1.16079447],\n",
       "       [ 0.94007736],\n",
       "       [-1.06334311],\n",
       "       [ 0.64856748],\n",
       "       [-0.3931821 ],\n",
       "       [-0.53150957],\n",
       "       [-0.34405111],\n",
       "       [-0.30672103],\n",
       "       [ 1.26397278]])"
      ]
     },
     "execution_count": 11,
     "metadata": {},
     "output_type": "execute_result"
    }
   ],
   "source": [
    "x"
   ]
  },
  {
   "cell_type": "code",
   "execution_count": 12,
   "metadata": {},
   "outputs": [
    {
     "data": {
      "text/plain": [
       "array([-0.67256049, -0.01887783, -1.31344252, -0.76893047, -0.15298222,\n",
       "       -0.64902534, -1.64301568, -0.75378393,  0.50498242, -0.05250881,\n",
       "       -0.55905701,  1.16079447,  0.94007736, -1.06334311,  0.64856748,\n",
       "       -0.3931821 , -0.53150957, -0.34405111, -0.30672103,  1.26397278])"
      ]
     },
     "execution_count": 12,
     "metadata": {},
     "output_type": "execute_result"
    }
   ],
   "source": [
    "x.ravel() # 1 d convert"
   ]
  },
  {
   "cell_type": "code",
   "execution_count": 17,
   "metadata": {},
   "outputs": [],
   "source": [
    "x1=x\n",
    "y1=y"
   ]
  },
  {
   "cell_type": "code",
   "execution_count": 21,
   "metadata": {},
   "outputs": [],
   "source": [
    "class GDRegressor:\n",
    "    \n",
    "    def __init__(self,learning_rate,epochs):\n",
    "        self.m=0\n",
    "        self.b=0\n",
    "        self.lr=learning_rate\n",
    "        self.epochs=epochs\n",
    "        \n",
    "    def fit(self,x,y):\n",
    "        # calculate the b using GD\n",
    "        for i in range(self.epochs):\n",
    "            loss_slop_b=-2*np.sum(y-self.m*x.ravel()-self.b)\n",
    "            loss_slop_m=-2*np.sum((y-self.m*x.ravel()-self.b)*x.ravel())\n",
    "            \n",
    "            self.b=self.b-(self.lr*loss_slop_b)\n",
    "            self.m=self.m-(self.lr*loss_slop_m)\n",
    "        \n",
    "        print(self.m,self.b)\n",
    "        \n",
    "    def predict(self,x):\n",
    "        return self.m*x+self.b\n",
    "            "
   ]
  },
  {
   "cell_type": "code",
   "execution_count": 22,
   "metadata": {},
   "outputs": [],
   "source": [
    "gd=GDRegressor(0.001,1000) "
   ]
  },
  {
   "cell_type": "code",
   "execution_count": 23,
   "metadata": {
    "scrolled": false
   },
   "outputs": [
    {
     "name": "stdout",
     "output_type": "stream",
     "text": [
      "34.56640695962335 2.707174772908223\n"
     ]
    }
   ],
   "source": [
    "gd.fit(x,y) # value of m & b"
   ]
  },
  {
   "cell_type": "code",
   "execution_count": 24,
   "metadata": {},
   "outputs": [
    {
     "name": "stdout",
     "output_type": "stream",
     "text": [
      "Slope 0.9071102780852737, yintercept 2.663044982612235, Loss 27.79655378976365\n",
      "Slope 1.787317509255315, yintercept 2.3481033419669246, Loss 27.012721251694344\n",
      "Slope 2.641532681472061, yintercept 2.0540414070227384, Loss 26.25949777126639\n",
      "Slope 3.4706322817441912, yintercept 1.7797794252419237, Loss 25.53549968291541\n",
      "Slope 4.275459706099331, yintercept 1.5242890812240197, Loss 24.839410328797104\n",
      "Slope 5.056826609319734, yintercept 1.2865911278609263, Loss 24.169977013093185\n",
      "Slope 5.815514197076146, yintercept 1.0657531249456922, Loss 23.526008076341252\n",
      "Slope 6.552274462977913, yintercept 0.8608872803948898, Loss 22.90637008522777\n",
      "Slope 7.267831372946009, yintercept 0.6711483894617392, Loss 22.309985133565828\n",
      "Slope 7.962881999209172, yintercept 0.495731867524701, Loss 21.735828250436033\n",
      "Slope 8.63809760612161, yintercept 0.33387187223451575, Loss 21.182924911700123\n",
      "Slope 9.294124689903573, yintercept 0.1848395109920294, Loss 20.650348651304892\n",
      "Slope 9.931585974313174, yintercept 0.047941129910026525, Loss 20.13721876897967\n",
      "Slope 10.55108136416913, yintercept -0.07748331941494088, Loss 19.642698131095774\n",
      "Slope 11.15318885855929, yintercept -0.19206183882971875, Loss 19.16599106160265\n",
      "Slope 11.738465425488796, yintercept -0.2963918716020732, Loss 18.706341320084725\n",
      "Slope 12.30744783964431, yintercept -0.3910417226493784, Loss 18.26303016409691\n",
      "Slope 12.86065348487674, yintercept -0.4765519140754713, Loss 17.835374493036966\n",
      "Slope 13.39858112293425, yintercept -0.5534364789353172, Loss 17.422725070901738\n",
      "Slope 13.921711629909748, yintercept -0.622184196015931, Loss 17.02446482535227\n",
      "Slope 14.430508701802538, yintercept -0.6832597682966843, Loss 16.64000722058289\n",
      "Slope 14.92541953053212, yintercept -0.7371049476324351, Loss 16.268794701551826\n",
      "Slope 15.406875451683188, yintercept -0.7841396080885866, Loss 15.9102972071877\n",
      "Slope 15.875292565204582, yintercept -0.8247627702479873, Loss 15.564010750238745\n",
      "Slope 16.33107233023108, yintercept -0.8593535787052764, Loss 15.229456061480274\n",
      "Slope 16.774602135145557, yintercept -0.888272234864664, Loss 14.90617729604247\n",
      "Slope 17.206255843949798, yintercept -0.9118608870619742, Loss 14.593740799665312\n",
      "Slope 17.626394319965414, yintercept -0.930444479940898, Loss 14.291733932731319\n",
      "Slope 18.03536592784128, yintercept -0.9443315649265922, Loss 13.999763949970411\n",
      "Slope 18.433507014801155, yintercept -0.9538150735568508, Loss 13.71745693377485\n",
      "Slope 18.82114237202407, yintercept -0.9591730553518759, Loss 13.444456779106446\n",
      "Slope 19.19858567701095, yintercept -0.9606693818280415, Loss 13.18042422802317\n",
      "Slope 19.56613991775345, yintercept -0.9585544181887935, Loss 12.925035951898227\n",
      "Slope 19.9240977994853, yintercept -0.9530656641568267, Loss 12.677983679451474\n",
      "Slope 20.272742134762126, yintercept -0.9444283653457731, Loss 12.43897336876099\n",
      "Slope 20.612346217583212, yintercept -0.9328560965066859, Loss 12.207724421471465\n",
      "Slope 20.943174182237257, yintercept -0.9185513179244802, Loss 11.983968937465706\n",
      "Slope 21.26548134752449, yintercept -0.9017059061820673, Loss 11.767451008316064\n",
      "Slope 21.579514546978896, yintercept -0.8825016604550701, Loss 11.557926047883353\n",
      "Slope 21.88551244568708, yintercept -0.8611107854476265, Loss 11.355160158482237\n",
      "Slope 22.18370584427419, yintercept -0.8376963520297499, Loss 11.158929531083299\n",
      "Slope 22.474317970602495, yintercept -0.8124127365889328, Loss 10.969019878073254\n",
      "Slope 22.757564759704376, yintercept -0.7854060400630383, Loss 10.785225897145605\n",
      "Slope 23.033655122448693, yintercept -0.7568144875779322, Loss 10.607350764944327\n",
      "Slope 23.302791203417808, yintercept -0.7267688095716762, Loss 10.435205659132613\n",
      "Slope 23.565168628451776, yintercept -0.6953926052473379, Loss 10.268609307607154\n",
      "Slope 23.820976742296242, yintercept -0.6628026891584982, Loss 10.10738756362569\n",
      "Slope 24.070398836771744, yintercept -0.6291094216952622, Loss 9.95137300566144\n",
      "Slope 24.313612369863815, yintercept -0.5944170242039419, Loss 9.800404560842443\n",
      "Slope 24.550789176116087, yintercept -0.5588238794404897, Loss 9.65432715087654\n",
      "Slope 24.782095668691856, yintercept -0.5224228180261647, Loss 9.512991359403829\n",
      "Slope 25.00769303345385, yintercept -0.4853013915437372, Loss 9.37625311975773\n",
      "Slope 25.2277374153967, yintercept -0.44754213288370964, Loss 9.243973422153198\n",
      "Slope 25.44238009775216, yintercept -0.40922280442251097, Loss 9.116018039356405\n",
      "Slope 25.65176767407327, yintercept -0.370416634588326, Loss 8.992257269924005\n",
      "Slope 25.85604221359042, yintercept -0.3311925433451197, Loss 8.872565698132346\n",
      "Slope 26.055341420119614, yintercept -0.29161535710143266, Loss 8.756821969747406\n",
      "Slope 26.249798784791107, yintercept -0.2517460135276262, Loss 8.644908582815225\n",
      "Slope 26.439543732855082, yintercept -0.21164175674338492, Loss 8.536711692679972\n",
      "Slope 26.624701764809913, yintercept -0.17135632331639525, Loss 8.432120930463032\n",
      "Slope 26.805394592088017, yintercept -0.13094011949317452, Loss 8.331029234261297\n",
      "Slope 26.981740267524167, yintercept -0.090440390063972, Loss 8.2333326923468\n",
      "Slope 27.15385331082153, yintercept -0.04990137924547257, Loss 8.138930397672778\n",
      "Slope 27.321844829221344, yintercept -0.009364483947657778, Loss 8.047724313013495\n",
      "Slope 27.485822633573466, yintercept 0.03113160022541169, Loss 7.9596191460867125\n",
      "Slope 27.645891349996383, yintercept 0.07155073990697511, Loss 7.87452223402898\n",
      "Slope 27.802152527307403, yintercept 0.1118592315123263, Loss 7.792343436614674\n",
      "Slope 27.95470474039584, yintercept 0.15202567509260956, Loss 7.71299503763045\n",
      "Slope 28.103643689704747, yintercept 0.192020854207122, Loss 7.636391653837276\n",
      "Slope 28.249062296979613, yintercept 0.23181762153676638, Loss 7.5624501509729125\n",
      "Slope 28.391050797435724, yintercept 0.2713907899738844, Loss 7.491089566268286\n",
      "Slope 28.5296968284894, yintercept 0.31071702893571673, Loss 7.422231036972104\n",
      "Slope 28.66508551519217, yintercept 0.3497747656602141, Loss 7.355797734399029\n",
      "Slope 28.79729955250103, yintercept 0.3885440912538828, Loss 7.291714803038055\n",
      "Slope 28.92641928451224, yintercept 0.4270066712718128, Loss 7.229909304279015\n",
      "Slope 29.052522780780784, yintercept 0.4651456606200314, Loss 7.170310164336968\n",
      "Slope 29.175685909842414, yintercept 0.5029456225798666, Loss 7.1128481259758845\n",
      "Slope 29.295982410050208, yintercept 0.5403924517631197, Loss 7.057455703655052\n",
      "Slope 29.413483957832916, yintercept 0.5774733008155453, Loss 7.004067141743567\n",
      "Slope 29.528260233477834, yintercept 0.6141765106944488, Loss 6.952618375470303\n",
      "Slope 29.640378984536554, yintercept 0.650491544354143, Loss 6.903046994298554\n",
      "Slope 29.7499060869479, yintercept 0.686408923680584, Loss 6.85529220743636\n",
      "Slope 29.856905603968293, yintercept 0.7219201695237387, Loss 6.80929481121489\n",
      "Slope 29.96143984299611, yintercept 0.7570177446831453, Loss 6.764997158088415\n",
      "Slope 30.06356941037288, yintercept 0.7916949997087224, Loss 6.722343127029997\n",
      "Slope 30.16335326424076, yintercept 0.8259461213851808, Loss 6.681278095117224\n",
      "Slope 30.260848765532387, yintercept 0.8597660837744053, Loss 6.641748910121732\n",
      "Slope 30.35611172716605, yintercept 0.8931506016959148, Loss 6.603703863935163\n",
      "Slope 30.449196461516046, yintercept 0.9260960865309895, Loss 6.567092666682204\n",
      "Slope 30.54015582622526, yintercept 0.9585996042412931, Loss 6.531866421388625\n",
      "Slope 30.629041268424114, yintercept 0.9906588354978073, Loss 6.497977599088566\n",
      "Slope 30.715902867417487, yintercept 1.022272037820675, Loss 6.465380014270794\n",
      "Slope 30.800789375898585, yintercept 1.0534380096350986, Loss 6.434028800578121\n",
      "Slope 30.883748259746348, yintercept 1.0841560561527916, Loss 6.403880386687686\n",
      "Slope 30.96482573646059, yintercept 1.1144259569926345, Loss 6.374892472312388\n",
      "Slope 31.044066812286932, yintercept 1.1442479354581467, Loss 6.347024004275229\n",
      "Slope 31.12151531808135, yintercept 1.1736226293931766, Loss 6.320235152618941\n",
      "Slope 31.197213943962176, yintercept 1.2025510635408196, Loss 6.294487286722823\n",
      "Slope 31.27120427279544, yintercept 1.2310346233340272, Loss 6.269742951407374\n",
      "Slope 31.34352681255753, yintercept 1.2590750300496616, Loss 6.245965843014996\n"
     ]
    },
    {
     "data": {
      "image/png": "[encoded data removed]",
      "text/plain": [
       "<Figure size 432x288 with 1 Axes>"
      ]
     },
     "metadata": {
      "needs_background": "light"
     },
     "output_type": "display_data"
    }
   ],
   "source": [
    "m = 0\n",
    "b =3\n",
    "lr = 0.001\n",
    "hh = []\n",
    "slope = []\n",
    "intercept = []\n",
    "for i in range(100):\n",
    "    loss_slope_b = -2 * np.sum(y - m*x.ravel() - b)\n",
    "    loss_slope_m = -2 * np.sum((y - m*x.ravel() - b)*x.ravel())\n",
    "            \n",
    "    b = b - (lr * loss_slope_b)\n",
    "    m = m - (lr * loss_slope_m)\n",
    "    yhat= np.sqrt(mean_squared_error(y,(m*x)+b))\n",
    "    ht = hh.append(yhat)\n",
    "    ss = slope.append(m)\n",
    "    ii= intercept.append(b)\n",
    "    print(f\"Slope {m}, yintercept {b}, Loss {yhat}\")\n",
    "    #print(hh)\n",
    "plt.plot(x,slope[i] *x + intercept[i])\n",
    "plt.scatter(x,y)\n",
    "plt.show()"
   ]
  },
  {
   "cell_type": "code",
   "execution_count": null,
   "metadata": {},
   "outputs": [],
   "source": []
  }
 ],
 "metadata": {
  "kernelspec": {
   "display_name": "Python 3",
   "language": "python",
   "name": "python3"
  },
  "language_info": {
   "codemirror_mode": {
    "name": "ipython",
    "version": 3
   },
   "file_extension": ".py",
   "mimetype": "text/x-python",
   "name": "python",
   "nbconvert_exporter": "python",
   "pygments_lexer": "ipython3",
   "version": "3.8.3"
  }
 },
 "nbformat": 4,
 "nbformat_minor": 4
}
