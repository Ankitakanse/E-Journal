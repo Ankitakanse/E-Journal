{
 "cells": [
  {
   "cell_type": "markdown",
   "id": "ab7cfbbe",
   "metadata": {},
   "source": [
    "# Naïve Bayes\n",
    "\n",
    "The Naïve Bayes algorithm is comprised of two words Naïve and Bayes, Which can be described as:\n",
    "\n",
    "**Naïve:** It is called Naïve because it assumes that the occurrence of a certain feature is independent of the occurrence of other features. \n",
    "\n",
    "**Bayes:** It is called Bayes because it depends on the principle of Bayes' Theorem."
   ]
  },
  {
   "cell_type": "markdown",
   "id": "f0964fb7",
   "metadata": {},
   "source": [
    "\n",
    "\n",
    "- Naïve Bayes algorithm is a supervised learning algorithm, which is based on Bayes theorem and used for solving classification problems.\n",
    "- It is mainly used in text classification that includes a high-dimensional training dataset.\n",
    "- Naïve Bayes Classifier is one of the simple and most effective Classification algorithms which helps in building the fast machine learning models that can make quick predictions.\n",
    "- It is a probabilistic classifier, which means it predicts on the basis of the probability of an object.\n",
    "- Some popular examples of Naïve Bayes Algorithm are spam filtration, Sentimental analysis, and classifying articles.\n"
   ]
  },
  {
   "cell_type": "markdown",
   "id": "f31f7fb0",
   "metadata": {},
   "source": [
    "## Bayes' Theorem:\n",
    "Bayes' theorem is also known as **Bayes' Rule or Bayes' law**, which is used to determine the probability of a hypothesis with prior knowledge. It depends on the conditional probability.\n",
    "\n",
    "$$ X = {x_1,x_2,x_3,...,x_n}$$ \n",
    "$$ Y = {y_1,y_2,y_3,...,y_n}$$\n",
    "\n",
    "$$ P(Y_k|({x_1,x_2,x_3,...,x_n}) $$\n",
    "\n",
    "$$ P(Y_k|({x_1,x_2,x_3,...,x_n}) = \\frac{P(x_1,x_2,x_3,...,x_n|Y_k)P(Y_k)}{P(x_1,x_2,x_3,...,x_n)}$$\n",
    "    The formula for Bayes' theorem is given as:-\n",
    " <b style = 'color : #732DC0 '> $$ P(Y|X) = \\frac{P(X|Y)P(Y)}{P(X)}$$</b>\n",
    " \n",
    "    Where,\n",
    "\n",
    "**P(Y|X) is Posterior probability:** Probability of hypothesis Y on the observed event X.\n",
    "\n",
    "**P(X|Y) is Likelihood probability:** Probability of the evidence given that the probability of a hypothesis is true.\n",
    "\n",
    "**P(Y) is Prior Probability:** Probability of hypothesis before observing the evidence.\n",
    "\n",
    "**P(X) is Marginal Probability:** Probability of Evidence."
   ]
  },
  {
   "cell_type": "markdown",
   "id": "d1594307",
   "metadata": {},
   "source": [
    "|sr.No\t|Outlook|\tPlay|\n",
    "|-------|-------|-------|\n",
    "|0\t|Rainy|\tYes|\n",
    "|1\t|Sunny|\tYes|\n",
    "|2\t|Overcast|\tYes|\n",
    "|3\t|Overcast|\tYes|\n",
    "|4\t|Sunny|\tNo|\n",
    "|5\t|Rainy|\tYes|\n",
    "|6\t|Sunny|\tYes|\n",
    "|7\t|Overcast|\tYes|\n",
    "|8\t|Rainy|No|\n",
    "|9\t|Sunny|\tNo|\n",
    "|10\t|Sunny\t|Yes|\n",
    "|11\t|Rainy\t|No|\n",
    "|12\t|Overcast|\tYes|\n",
    "|13\t|Overcast|\tYes|\n",
    "\n",
    "\n",
    "# Frequency table for the Weather Conditions:\n",
    "\n",
    "|Weather|\tYes\t|No|\n",
    "|-------|-------|--|\n",
    "|Overcast|5\t|0|\n",
    "|Rainy\t|2\t|2|\n",
    "|Sunny\t|3\t|2|\n",
    "|Total\t|10\t|5|\n",
    "\n",
    "# Likelihood table weather condition:\n",
    "\n",
    "|Weather\t|No\t|Yes\t|-|\n",
    "|----------|----|-------|:-:|\n",
    "|Overcast|0\t|5\t|5/14= 0.35|\n",
    "|Rainy\t|2\t|2\t|4/14=0.29|\n",
    "|Sunny\t|2\t|3\t|5/14=0.35|\n",
    "|All\t|4/14=0.29\t|10/14=0.71\t|-|\n",
    "\n",
    "# Applying Baye's theorem:\n",
    "\n",
    "###  calculate probability for YES\n",
    "P(Yes|Sunny)= P(Sunny|Yes)*P(Yes)/P(Sunny)\n",
    "\n",
    "P(Sunny|Yes)= 3/10= 0.3\n",
    "\n",
    "P(Sunny)= 0.35\n",
    "\n",
    "P(Yes)=0.71\n",
    "\n",
    "So __P(Yes|Sunny) = 0.3*0.71/0.35= 0.60__\n",
    "\n",
    "\n",
    "###  calculate probability for NO\n",
    "\n",
    "P(No|Sunny)= P(Sunny|No)*P(No)/P(Sunny)\n",
    "\n",
    "P(Sunny|NO)= 2/4=0.5\n",
    "\n",
    "P(No)= 0.29\n",
    "\n",
    "P(Sunny)= 0.35\n",
    "\n",
    "So __P(No|Sunny)= 0.5*0.29/0.35 = 0.41__\n",
    "\n",
    "So as we can see from the above calculation that __P(Yes|Sunny)>P(No|Sunny)__\n",
    "\n",
    "Hence on a Sunny day, Player can play the game."
   ]
  },
  {
   "cell_type": "markdown",
   "id": "dbd16ef6",
   "metadata": {},
   "source": [
    "\n",
    "# Types of Naive Bayes\n",
    "**Gaussian Naive Bayes:** The Gaussian model assumes that features follow a normal distribution. This means if predictors take continuous values instead of discrete, then the model assumes that these values are sampled from the Gaussian distribution.\n",
    "\n",
    "\n",
    "__Multinomial Naive Bayes:__ The Multinomial Naïve Bayes classifier is used when the data is multinomial distributed. It is primarily used for document classification problems, it means a particular document belongs to which category such as Sports, Politics, education, etc.\n",
    "The classifier uses the frequency of words for the predictors.\n",
    "\n",
    "\n",
    "__Bernoulli Naive Bayes:__ The Bernoulli classifier works similar to the Multinomial classifier, but the predictor variables are the independent Booleans variables. Such as if a particular word is present or not in a document. This model is also famous for document classification tasks."
   ]
  },
  {
   "cell_type": "code",
   "execution_count": 1,
   "id": "7c0beb87",
   "metadata": {},
   "outputs": [],
   "source": [
    "import pandas as pd"
   ]
  },
  {
   "cell_type": "code",
   "execution_count": 3,
   "id": "75bd15c0",
   "metadata": {},
   "outputs": [
    {
     "data": {
      "text/html": [
       "<div>\n",
       "<style scoped>\n",
       "    .dataframe tbody tr th:only-of-type {\n",
       "        vertical-align: middle;\n",
       "    }\n",
       "\n",
       "    .dataframe tbody tr th {\n",
       "        vertical-align: top;\n",
       "    }\n",
       "\n",
       "    .dataframe thead th {\n",
       "        text-align: right;\n",
       "    }\n",
       "</style>\n",
       "<table border=\"1\" class=\"dataframe\">\n",
       "  <thead>\n",
       "    <tr style=\"text-align: right;\">\n",
       "      <th></th>\n",
       "      <th>outlook</th>\n",
       "      <th>temp</th>\n",
       "      <th>humidity</th>\n",
       "      <th>windy</th>\n",
       "      <th>play</th>\n",
       "    </tr>\n",
       "  </thead>\n",
       "  <tbody>\n",
       "    <tr>\n",
       "      <th>0</th>\n",
       "      <td>sunny</td>\n",
       "      <td>hot</td>\n",
       "      <td>high</td>\n",
       "      <td>False</td>\n",
       "      <td>no</td>\n",
       "    </tr>\n",
       "    <tr>\n",
       "      <th>1</th>\n",
       "      <td>sunny</td>\n",
       "      <td>hot</td>\n",
       "      <td>high</td>\n",
       "      <td>True</td>\n",
       "      <td>no</td>\n",
       "    </tr>\n",
       "    <tr>\n",
       "      <th>2</th>\n",
       "      <td>overcast</td>\n",
       "      <td>hot</td>\n",
       "      <td>high</td>\n",
       "      <td>False</td>\n",
       "      <td>yes</td>\n",
       "    </tr>\n",
       "    <tr>\n",
       "      <th>3</th>\n",
       "      <td>rainy</td>\n",
       "      <td>mild</td>\n",
       "      <td>high</td>\n",
       "      <td>False</td>\n",
       "      <td>yes</td>\n",
       "    </tr>\n",
       "    <tr>\n",
       "      <th>4</th>\n",
       "      <td>rainy</td>\n",
       "      <td>cool</td>\n",
       "      <td>normal</td>\n",
       "      <td>False</td>\n",
       "      <td>yes</td>\n",
       "    </tr>\n",
       "    <tr>\n",
       "      <th>5</th>\n",
       "      <td>rainy</td>\n",
       "      <td>cool</td>\n",
       "      <td>normal</td>\n",
       "      <td>True</td>\n",
       "      <td>no</td>\n",
       "    </tr>\n",
       "    <tr>\n",
       "      <th>6</th>\n",
       "      <td>overcast</td>\n",
       "      <td>cool</td>\n",
       "      <td>normal</td>\n",
       "      <td>True</td>\n",
       "      <td>yes</td>\n",
       "    </tr>\n",
       "    <tr>\n",
       "      <th>7</th>\n",
       "      <td>sunny</td>\n",
       "      <td>mild</td>\n",
       "      <td>high</td>\n",
       "      <td>False</td>\n",
       "      <td>no</td>\n",
       "    </tr>\n",
       "    <tr>\n",
       "      <th>8</th>\n",
       "      <td>sunny</td>\n",
       "      <td>cool</td>\n",
       "      <td>normal</td>\n",
       "      <td>False</td>\n",
       "      <td>yes</td>\n",
       "    </tr>\n",
       "    <tr>\n",
       "      <th>9</th>\n",
       "      <td>rainy</td>\n",
       "      <td>mild</td>\n",
       "      <td>normal</td>\n",
       "      <td>False</td>\n",
       "      <td>yes</td>\n",
       "    </tr>\n",
       "    <tr>\n",
       "      <th>10</th>\n",
       "      <td>sunny</td>\n",
       "      <td>mild</td>\n",
       "      <td>normal</td>\n",
       "      <td>True</td>\n",
       "      <td>yes</td>\n",
       "    </tr>\n",
       "    <tr>\n",
       "      <th>11</th>\n",
       "      <td>overcast</td>\n",
       "      <td>mild</td>\n",
       "      <td>high</td>\n",
       "      <td>True</td>\n",
       "      <td>yes</td>\n",
       "    </tr>\n",
       "    <tr>\n",
       "      <th>12</th>\n",
       "      <td>overcast</td>\n",
       "      <td>hot</td>\n",
       "      <td>normal</td>\n",
       "      <td>False</td>\n",
       "      <td>yes</td>\n",
       "    </tr>\n",
       "    <tr>\n",
       "      <th>13</th>\n",
       "      <td>rainy</td>\n",
       "      <td>mild</td>\n",
       "      <td>high</td>\n",
       "      <td>True</td>\n",
       "      <td>no</td>\n",
       "    </tr>\n",
       "  </tbody>\n",
       "</table>\n",
       "</div>"
      ],
      "text/plain": [
       "     outlook  temp humidity  windy play\n",
       "0      sunny   hot     high  False   no\n",
       "1      sunny   hot     high   True   no\n",
       "2   overcast   hot     high  False  yes\n",
       "3      rainy  mild     high  False  yes\n",
       "4      rainy  cool   normal  False  yes\n",
       "5      rainy  cool   normal   True   no\n",
       "6   overcast  cool   normal   True  yes\n",
       "7      sunny  mild     high  False   no\n",
       "8      sunny  cool   normal  False  yes\n",
       "9      rainy  mild   normal  False  yes\n",
       "10     sunny  mild   normal   True  yes\n",
       "11  overcast  mild     high   True  yes\n",
       "12  overcast   hot   normal  False  yes\n",
       "13     rainy  mild     high   True   no"
      ]
     },
     "execution_count": 3,
     "metadata": {},
     "output_type": "execute_result"
    }
   ],
   "source": [
    "df= pd.read_csv('PlayTennis.csv')\n",
    "df"
   ]
  },
  {
   "cell_type": "code",
   "execution_count": 4,
   "id": "34f5ab67",
   "metadata": {},
   "outputs": [],
   "source": [
    "from sklearn.preprocessing import LabelEncoder"
   ]
  },
  {
   "cell_type": "code",
   "execution_count": 5,
   "id": "95570afb",
   "metadata": {},
   "outputs": [],
   "source": [
    "le = LabelEncoder()"
   ]
  },
  {
   "cell_type": "code",
   "execution_count": 25,
   "id": "b648724a",
   "metadata": {},
   "outputs": [
    {
     "data": {
      "text/html": [
       "<div>\n",
       "<style scoped>\n",
       "    .dataframe tbody tr th:only-of-type {\n",
       "        vertical-align: middle;\n",
       "    }\n",
       "\n",
       "    .dataframe tbody tr th {\n",
       "        vertical-align: top;\n",
       "    }\n",
       "\n",
       "    .dataframe thead th {\n",
       "        text-align: right;\n",
       "    }\n",
       "</style>\n",
       "<table border=\"1\" class=\"dataframe\">\n",
       "  <thead>\n",
       "    <tr style=\"text-align: right;\">\n",
       "      <th></th>\n",
       "      <th>outlook</th>\n",
       "      <th>temp</th>\n",
       "      <th>humidity</th>\n",
       "      <th>windy</th>\n",
       "      <th>play</th>\n",
       "    </tr>\n",
       "  </thead>\n",
       "  <tbody>\n",
       "    <tr>\n",
       "      <th>0</th>\n",
       "      <td>2</td>\n",
       "      <td>1</td>\n",
       "      <td>0</td>\n",
       "      <td>0</td>\n",
       "      <td>0</td>\n",
       "    </tr>\n",
       "    <tr>\n",
       "      <th>1</th>\n",
       "      <td>2</td>\n",
       "      <td>1</td>\n",
       "      <td>0</td>\n",
       "      <td>1</td>\n",
       "      <td>0</td>\n",
       "    </tr>\n",
       "    <tr>\n",
       "      <th>2</th>\n",
       "      <td>0</td>\n",
       "      <td>1</td>\n",
       "      <td>0</td>\n",
       "      <td>0</td>\n",
       "      <td>1</td>\n",
       "    </tr>\n",
       "    <tr>\n",
       "      <th>3</th>\n",
       "      <td>1</td>\n",
       "      <td>2</td>\n",
       "      <td>0</td>\n",
       "      <td>0</td>\n",
       "      <td>1</td>\n",
       "    </tr>\n",
       "    <tr>\n",
       "      <th>4</th>\n",
       "      <td>1</td>\n",
       "      <td>0</td>\n",
       "      <td>1</td>\n",
       "      <td>0</td>\n",
       "      <td>1</td>\n",
       "    </tr>\n",
       "    <tr>\n",
       "      <th>5</th>\n",
       "      <td>1</td>\n",
       "      <td>0</td>\n",
       "      <td>1</td>\n",
       "      <td>1</td>\n",
       "      <td>0</td>\n",
       "    </tr>\n",
       "    <tr>\n",
       "      <th>6</th>\n",
       "      <td>0</td>\n",
       "      <td>0</td>\n",
       "      <td>1</td>\n",
       "      <td>1</td>\n",
       "      <td>1</td>\n",
       "    </tr>\n",
       "    <tr>\n",
       "      <th>7</th>\n",
       "      <td>2</td>\n",
       "      <td>2</td>\n",
       "      <td>0</td>\n",
       "      <td>0</td>\n",
       "      <td>0</td>\n",
       "    </tr>\n",
       "    <tr>\n",
       "      <th>8</th>\n",
       "      <td>2</td>\n",
       "      <td>0</td>\n",
       "      <td>1</td>\n",
       "      <td>0</td>\n",
       "      <td>1</td>\n",
       "    </tr>\n",
       "    <tr>\n",
       "      <th>9</th>\n",
       "      <td>1</td>\n",
       "      <td>2</td>\n",
       "      <td>1</td>\n",
       "      <td>0</td>\n",
       "      <td>1</td>\n",
       "    </tr>\n",
       "    <tr>\n",
       "      <th>10</th>\n",
       "      <td>2</td>\n",
       "      <td>2</td>\n",
       "      <td>1</td>\n",
       "      <td>1</td>\n",
       "      <td>1</td>\n",
       "    </tr>\n",
       "    <tr>\n",
       "      <th>11</th>\n",
       "      <td>0</td>\n",
       "      <td>2</td>\n",
       "      <td>0</td>\n",
       "      <td>1</td>\n",
       "      <td>1</td>\n",
       "    </tr>\n",
       "    <tr>\n",
       "      <th>12</th>\n",
       "      <td>0</td>\n",
       "      <td>1</td>\n",
       "      <td>1</td>\n",
       "      <td>0</td>\n",
       "      <td>1</td>\n",
       "    </tr>\n",
       "    <tr>\n",
       "      <th>13</th>\n",
       "      <td>1</td>\n",
       "      <td>2</td>\n",
       "      <td>0</td>\n",
       "      <td>1</td>\n",
       "      <td>0</td>\n",
       "    </tr>\n",
       "  </tbody>\n",
       "</table>\n",
       "</div>"
      ],
      "text/plain": [
       "    outlook  temp  humidity  windy  play\n",
       "0         2     1         0      0     0\n",
       "1         2     1         0      1     0\n",
       "2         0     1         0      0     1\n",
       "3         1     2         0      0     1\n",
       "4         1     0         1      0     1\n",
       "5         1     0         1      1     0\n",
       "6         0     0         1      1     1\n",
       "7         2     2         0      0     0\n",
       "8         2     0         1      0     1\n",
       "9         1     2         1      0     1\n",
       "10        2     2         1      1     1\n",
       "11        0     2         0      1     1\n",
       "12        0     1         1      0     1\n",
       "13        1     2         0      1     0"
      ]
     },
     "execution_count": 25,
     "metadata": {},
     "output_type": "execute_result"
    }
   ],
   "source": [
    "df = df.apply(le.fit_transform)\n",
    "x= df.iloc[:,:4]\n",
    "y= df.iloc[:,-1]\n",
    "df"
   ]
  },
  {
   "cell_type": "code",
   "execution_count": 35,
   "id": "61a67e7d",
   "metadata": {},
   "outputs": [
    {
     "name": "stderr",
     "output_type": "stream",
     "text": [
      "/Users/mujtabashaikh/opt/anaconda3/lib/python3.9/site-packages/sklearn/base.py:450: UserWarning: X does not have valid feature names, but BernoulliNB was fitted with feature names\n",
      "  warnings.warn(\n",
      "/Users/mujtabashaikh/opt/anaconda3/lib/python3.9/site-packages/sklearn/base.py:450: UserWarning: X does not have valid feature names, but BernoulliNB was fitted with feature names\n",
      "  warnings.warn(\n"
     ]
    },
    {
     "data": {
      "text/plain": [
       "array([[0.75153675, 0.24846325]])"
      ]
     },
     "execution_count": 35,
     "metadata": {},
     "output_type": "execute_result"
    }
   ],
   "source": [
    "from sklearn.naive_bayes import BernoulliNB\n",
    "nb_ber = BernoulliNB()\n",
    "nb_ber.fit(x,y)\n",
    "nb_ber.predict([[1,2,0,1]])\n",
    "\n",
    "nb_ber.predict_proba([[1,2,0,1]])"
   ]
  },
  {
   "cell_type": "markdown",
   "id": "d9c11101",
   "metadata": {},
   "source": [
    "# Question : Classify the given testing input using NB Classifier"
   ]
  },
  {
   "attachments": {
    "bayes-nagesh-2.png": {
     "image/png": "[encoded data removed]"
    }
   },
   "cell_type": "markdown",
   "id": "fd314d8b",
   "metadata": {},
   "source": [
    "# Training Data\n",
    "![bayes-nagesh-2.png](attachment:bayes-nagesh-2.png)"
   ]
  },
  {
   "attachments": {
    "bayes-nagesh-8%20%281%29.png": {
     "image/png": "[encoded data removed]"
    }
   },
   "cell_type": "markdown",
   "id": "86203669",
   "metadata": {},
   "source": [
    "# Table for Color feature\n",
    "![bayes-nagesh-8%20%281%29.png](attachment:bayes-nagesh-8%20%281%29.png)"
   ]
  },
  {
   "attachments": {
    "bayes-nagesh-9%20%281%29.png": {
     "image/png": "[encoded data removed]"
    }
   },
   "cell_type": "markdown",
   "id": "d0206b32",
   "metadata": {},
   "source": [
    "# Table for Type feature\n",
    "![bayes-nagesh-9%20%281%29.png](attachment:bayes-nagesh-9%20%281%29.png)"
   ]
  },
  {
   "attachments": {
    "bayes-nagesh-10.png": {
     "image/png": "[encoded data removed]"
    }
   },
   "cell_type": "markdown",
   "id": "21a9350c",
   "metadata": {},
   "source": [
    "# Table for Origin feature\n",
    "![bayes-nagesh-10.png](attachment:bayes-nagesh-10.png)"
   ]
  },
  {
   "attachments": {
    "bayes-nagesh-11.png": {
     "image/png": "[encoded data removed]"
    }
   },
   "cell_type": "markdown",
   "id": "9a694494",
   "metadata": {},
   "source": [
    "# Testing Data\n",
    "![bayes-nagesh-11.png](attachment:bayes-nagesh-11.png)"
   ]
  },
  {
   "attachments": {
    "bayes-nagesh-12.png": {
     "image/png": "[encoded data removed]"
    }
   },
   "cell_type": "markdown",
   "id": "321060f2",
   "metadata": {},
   "source": [
    "# Calculate probability for YES\n",
    "![bayes-nagesh-12.png](attachment:bayes-nagesh-12.png)"
   ]
  },
  {
   "attachments": {
    "bayes-nagesh-13.png": {
     "image/png": "[encoded data removed]"
    }
   },
   "cell_type": "markdown",
   "id": "76cfa382",
   "metadata": {},
   "source": [
    "# Calculate probability for NO\n",
    "![bayes-nagesh-13.png](attachment:bayes-nagesh-13.png)"
   ]
  },
  {
   "cell_type": "markdown",
   "id": "849f3341",
   "metadata": {},
   "source": [
    "Since **0.144 > 0.048**, Which means given the features RED SUV and Domestic, our example gets classified as ’NO’ the car is not stolen."
   ]
  },
  {
   "cell_type": "markdown",
   "id": "510c3b92",
   "metadata": {},
   "source": [
    "## Advantages of Naïve Bayes Classifier:\n",
    "Naïve Bayes is one of the fast and easy ML algorithms to predict a class of datasets.\n",
    "- It can be used for Binary as well as Multi-class Classifications.\n",
    "- It performs well in Multi-class predictions as compared to the other Algorithms.\n",
    "- It is the most popular choice for text classification problems.\n",
    "\n",
    "## Disadvantages of Naïve Bayes Classifier:\n",
    "- Naive Bayes assumes that all features are independent or unrelated, so it cannot learn the relationship between features.\n",
    "\n",
    "## Applications of Naïve Bayes Classifier:\n",
    "- It is used for Credit Scoring.\n",
    "- It is used in medical data classification.\n",
    "- It can be used in real-time predictions because Naïve Bayes Classifier is an eager learner.\n",
    "- It is used in Text classification such as Spam filtering and Sentiment analysis.\n"
   ]
  }
 ],
 "metadata": {
  "kernelspec": {
   "display_name": "Python 3 (ipykernel)",
   "language": "python",
   "name": "python3"
  },
  "language_info": {
   "codemirror_mode": {
    "name": "ipython",
    "version": 3
   },
   "file_extension": ".py",
   "mimetype": "text/x-python",
   "name": "python",
   "nbconvert_exporter": "python",
   "pygments_lexer": "ipython3",
   "version": "3.9.12"
  }
 },
 "nbformat": 4,
 "nbformat_minor": 5
}
