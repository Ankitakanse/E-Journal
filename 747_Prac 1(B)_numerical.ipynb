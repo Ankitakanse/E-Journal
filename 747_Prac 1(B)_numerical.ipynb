{
 "cells": [
  {
   "cell_type": "markdown",
   "id": "0496512a",
   "metadata": {},
   "source": [
    "# Practical A(2)\n",
    "Aim:- Demonstrate Data imputation with Statistical technique on numerical values & write down the conclusion about the assumption."
   ]
  },
  {
   "cell_type": "code",
   "execution_count": 54,
   "id": "8ccdebdb",
   "metadata": {},
   "outputs": [],
   "source": [
    "import pandas as pd\n",
    "import numpy as np"
   ]
  },
  {
   "cell_type": "code",
   "execution_count": 55,
   "id": "ea90864c",
   "metadata": {},
   "outputs": [
    {
     "data": {
      "text/html": [
       "<div>\n",
       "<style scoped>\n",
       "    .dataframe tbody tr th:only-of-type {\n",
       "        vertical-align: middle;\n",
       "    }\n",
       "\n",
       "    .dataframe tbody tr th {\n",
       "        vertical-align: top;\n",
       "    }\n",
       "\n",
       "    .dataframe thead th {\n",
       "        text-align: right;\n",
       "    }\n",
       "</style>\n",
       "<table border=\"1\" class=\"dataframe\">\n",
       "  <thead>\n",
       "    <tr style=\"text-align: right;\">\n",
       "      <th></th>\n",
       "      <th>Age</th>\n",
       "      <th>Fare</th>\n",
       "      <th>Family</th>\n",
       "      <th>Survived</th>\n",
       "    </tr>\n",
       "  </thead>\n",
       "  <tbody>\n",
       "    <tr>\n",
       "      <th>0</th>\n",
       "      <td>22.0</td>\n",
       "      <td>7.2500</td>\n",
       "      <td>1</td>\n",
       "      <td>0</td>\n",
       "    </tr>\n",
       "    <tr>\n",
       "      <th>1</th>\n",
       "      <td>38.0</td>\n",
       "      <td>71.2833</td>\n",
       "      <td>1</td>\n",
       "      <td>1</td>\n",
       "    </tr>\n",
       "    <tr>\n",
       "      <th>2</th>\n",
       "      <td>26.0</td>\n",
       "      <td>7.9250</td>\n",
       "      <td>0</td>\n",
       "      <td>1</td>\n",
       "    </tr>\n",
       "    <tr>\n",
       "      <th>3</th>\n",
       "      <td>35.0</td>\n",
       "      <td>53.1000</td>\n",
       "      <td>1</td>\n",
       "      <td>1</td>\n",
       "    </tr>\n",
       "    <tr>\n",
       "      <th>4</th>\n",
       "      <td>35.0</td>\n",
       "      <td>8.0500</td>\n",
       "      <td>0</td>\n",
       "      <td>0</td>\n",
       "    </tr>\n",
       "  </tbody>\n",
       "</table>\n",
       "</div>"
      ],
      "text/plain": [
       "    Age     Fare  Family  Survived\n",
       "0  22.0   7.2500       1         0\n",
       "1  38.0  71.2833       1         1\n",
       "2  26.0   7.9250       0         1\n",
       "3  35.0  53.1000       1         1\n",
       "4  35.0   8.0500       0         0"
      ]
     },
     "execution_count": 55,
     "metadata": {},
     "output_type": "execute_result"
    }
   ],
   "source": [
    "df=pd.read_csv(\"Data/titanic_toy.csv\")\n",
    "df.head()"
   ]
  },
  {
   "cell_type": "code",
   "execution_count": 56,
   "id": "031cdc76",
   "metadata": {},
   "outputs": [
    {
     "name": "stdout",
     "output_type": "stream",
     "text": [
      "<class 'pandas.core.frame.DataFrame'>\n",
      "RangeIndex: 891 entries, 0 to 890\n",
      "Data columns (total 4 columns):\n",
      " #   Column    Non-Null Count  Dtype  \n",
      "---  ------    --------------  -----  \n",
      " 0   Age       714 non-null    float64\n",
      " 1   Fare      846 non-null    float64\n",
      " 2   Family    891 non-null    int64  \n",
      " 3   Survived  891 non-null    int64  \n",
      "dtypes: float64(2), int64(2)\n",
      "memory usage: 28.0 KB\n"
     ]
    }
   ],
   "source": [
    "df.info()"
   ]
  },
  {
   "cell_type": "code",
   "execution_count": 57,
   "id": "f44031d5",
   "metadata": {},
   "outputs": [
    {
     "data": {
      "text/plain": [
       "Age         177\n",
       "Fare         45\n",
       "Family        0\n",
       "Survived      0\n",
       "dtype: int64"
      ]
     },
     "execution_count": 57,
     "metadata": {},
     "output_type": "execute_result"
    }
   ],
   "source": [
    "df.isnull().sum()"
   ]
  },
  {
   "cell_type": "code",
   "execution_count": 58,
   "id": "66240ec0",
   "metadata": {},
   "outputs": [
    {
     "data": {
      "text/plain": [
       "Age         19.865320\n",
       "Fare         5.050505\n",
       "Family       0.000000\n",
       "Survived     0.000000\n",
       "dtype: float64"
      ]
     },
     "execution_count": 58,
     "metadata": {},
     "output_type": "execute_result"
    }
   ],
   "source": [
    "# to check null varlue percentages\n",
    "\n",
    "df.isnull().mean()*100"
   ]
  },
  {
   "cell_type": "code",
   "execution_count": 59,
   "id": "5a141a19",
   "metadata": {},
   "outputs": [
    {
     "data": {
      "text/plain": [
       "(891, 4)"
      ]
     },
     "execution_count": 59,
     "metadata": {},
     "output_type": "execute_result"
    }
   ],
   "source": [
    "df.shape"
   ]
  },
  {
   "cell_type": "code",
   "execution_count": 61,
   "id": "332eb2b2",
   "metadata": {},
   "outputs": [],
   "source": [
    "# independent columns\n",
    "\n",
    "x = df.drop(columns = ['Survived'])"
   ]
  },
  {
   "cell_type": "code",
   "execution_count": 62,
   "id": "3fa8048e",
   "metadata": {},
   "outputs": [],
   "source": [
    "#dependent columns\n",
    "\n",
    "y = df['Survived']"
   ]
  },
  {
   "cell_type": "code",
   "execution_count": 63,
   "id": "c0ae8bc5",
   "metadata": {},
   "outputs": [],
   "source": [
    "# import\n",
    "\n",
    "from sklearn.model_selection import train_test_split"
   ]
  },
  {
   "cell_type": "code",
   "execution_count": 64,
   "id": "708312c3",
   "metadata": {},
   "outputs": [],
   "source": [
    "x_train, x_test, y_train, y_test = train_test_split(x, y, test_size= 0.2, \n",
    "                                                    random_state=2)"
   ]
  },
  {
   "cell_type": "code",
   "execution_count": 65,
   "id": "2929bdc4",
   "metadata": {},
   "outputs": [
    {
     "data": {
      "text/plain": [
       "(712, 3)"
      ]
     },
     "execution_count": 65,
     "metadata": {},
     "output_type": "execute_result"
    }
   ],
   "source": [
    "x_train.shape"
   ]
  },
  {
   "cell_type": "code",
   "execution_count": 66,
   "id": "0a4e4d46",
   "metadata": {},
   "outputs": [
    {
     "data": {
      "text/plain": [
       "(179, 3)"
      ]
     },
     "execution_count": 66,
     "metadata": {},
     "output_type": "execute_result"
    }
   ],
   "source": [
    "x_test.shape"
   ]
  },
  {
   "cell_type": "code",
   "execution_count": 67,
   "id": "35f369f5",
   "metadata": {},
   "outputs": [
    {
     "data": {
      "text/html": [
       "<div>\n",
       "<style scoped>\n",
       "    .dataframe tbody tr th:only-of-type {\n",
       "        vertical-align: middle;\n",
       "    }\n",
       "\n",
       "    .dataframe tbody tr th {\n",
       "        vertical-align: top;\n",
       "    }\n",
       "\n",
       "    .dataframe thead th {\n",
       "        text-align: right;\n",
       "    }\n",
       "</style>\n",
       "<table border=\"1\" class=\"dataframe\">\n",
       "  <thead>\n",
       "    <tr style=\"text-align: right;\">\n",
       "      <th></th>\n",
       "      <th>Age</th>\n",
       "      <th>Fare</th>\n",
       "      <th>Family</th>\n",
       "      <th>Survived</th>\n",
       "    </tr>\n",
       "  </thead>\n",
       "  <tbody>\n",
       "    <tr>\n",
       "      <th>count</th>\n",
       "      <td>714.000000</td>\n",
       "      <td>846.000000</td>\n",
       "      <td>891.000000</td>\n",
       "      <td>891.000000</td>\n",
       "    </tr>\n",
       "    <tr>\n",
       "      <th>mean</th>\n",
       "      <td>29.699118</td>\n",
       "      <td>32.279338</td>\n",
       "      <td>0.904602</td>\n",
       "      <td>0.383838</td>\n",
       "    </tr>\n",
       "    <tr>\n",
       "      <th>std</th>\n",
       "      <td>14.526497</td>\n",
       "      <td>50.305796</td>\n",
       "      <td>1.613459</td>\n",
       "      <td>0.486592</td>\n",
       "    </tr>\n",
       "    <tr>\n",
       "      <th>min</th>\n",
       "      <td>0.420000</td>\n",
       "      <td>0.000000</td>\n",
       "      <td>0.000000</td>\n",
       "      <td>0.000000</td>\n",
       "    </tr>\n",
       "    <tr>\n",
       "      <th>25%</th>\n",
       "      <td>20.125000</td>\n",
       "      <td>7.895800</td>\n",
       "      <td>0.000000</td>\n",
       "      <td>0.000000</td>\n",
       "    </tr>\n",
       "    <tr>\n",
       "      <th>50%</th>\n",
       "      <td>28.000000</td>\n",
       "      <td>14.454200</td>\n",
       "      <td>0.000000</td>\n",
       "      <td>0.000000</td>\n",
       "    </tr>\n",
       "    <tr>\n",
       "      <th>75%</th>\n",
       "      <td>38.000000</td>\n",
       "      <td>31.206250</td>\n",
       "      <td>1.000000</td>\n",
       "      <td>1.000000</td>\n",
       "    </tr>\n",
       "    <tr>\n",
       "      <th>max</th>\n",
       "      <td>80.000000</td>\n",
       "      <td>512.329200</td>\n",
       "      <td>10.000000</td>\n",
       "      <td>1.000000</td>\n",
       "    </tr>\n",
       "  </tbody>\n",
       "</table>\n",
       "</div>"
      ],
      "text/plain": [
       "              Age        Fare      Family    Survived\n",
       "count  714.000000  846.000000  891.000000  891.000000\n",
       "mean    29.699118   32.279338    0.904602    0.383838\n",
       "std     14.526497   50.305796    1.613459    0.486592\n",
       "min      0.420000    0.000000    0.000000    0.000000\n",
       "25%     20.125000    7.895800    0.000000    0.000000\n",
       "50%     28.000000   14.454200    0.000000    0.000000\n",
       "75%     38.000000   31.206250    1.000000    1.000000\n",
       "max     80.000000  512.329200   10.000000    1.000000"
      ]
     },
     "execution_count": 67,
     "metadata": {},
     "output_type": "execute_result"
    }
   ],
   "source": [
    "df.describe() # to check mean median of original data"
   ]
  },
  {
   "cell_type": "code",
   "execution_count": 68,
   "id": "1a795e19",
   "metadata": {},
   "outputs": [
    {
     "data": {
      "text/plain": [
       "29.78590425531915"
      ]
     },
     "execution_count": 68,
     "metadata": {},
     "output_type": "execute_result"
    }
   ],
   "source": [
    "# mean & median of age\n",
    "mean_age=x_train['Age'].mean()\n",
    "mean_age"
   ]
  },
  {
   "cell_type": "code",
   "execution_count": 69,
   "id": "73caa17c",
   "metadata": {},
   "outputs": [
    {
     "data": {
      "text/plain": [
       "28.75"
      ]
     },
     "execution_count": 69,
     "metadata": {},
     "output_type": "execute_result"
    }
   ],
   "source": [
    "median_age=x_train['Age'].median()\n",
    "median_age"
   ]
  },
  {
   "cell_type": "code",
   "execution_count": 70,
   "id": "578863df",
   "metadata": {},
   "outputs": [
    {
     "data": {
      "text/plain": [
       "32.617596893491076"
      ]
     },
     "execution_count": 70,
     "metadata": {},
     "output_type": "execute_result"
    }
   ],
   "source": [
    "# mean & median of age\n",
    "mean_fare=x_train['Fare'].mean()\n",
    "median_fare=x_train['Fare'].median()\n",
    "mean_fare"
   ]
  },
  {
   "cell_type": "code",
   "execution_count": 71,
   "id": "69602bf8",
   "metadata": {},
   "outputs": [
    {
     "data": {
      "text/plain": [
       "14.4583"
      ]
     },
     "execution_count": 71,
     "metadata": {},
     "output_type": "execute_result"
    }
   ],
   "source": [
    "median_fare"
   ]
  },
  {
   "cell_type": "markdown",
   "id": "15ee5885",
   "metadata": {},
   "source": [
    "# Imputation"
   ]
  },
  {
   "cell_type": "code",
   "execution_count": 72,
   "id": "9ff11679",
   "metadata": {},
   "outputs": [],
   "source": [
    "# making new columns with filling Nulls with mean and median\n",
    "x_train['Age_mean']=x_train['Age'].fillna(mean_age)\n",
    "x_train['Age_median']=x_train['Age'].fillna(mean_age)"
   ]
  },
  {
   "cell_type": "code",
   "execution_count": 73,
   "id": "70140eec",
   "metadata": {},
   "outputs": [],
   "source": [
    "# fare mean and median\n",
    "x_train['Fare_mean']=x_train['Fare'].fillna(mean_fare)\n",
    "x_train['Fare_median']=x_train['Fare'].fillna(mean_fare)"
   ]
  },
  {
   "cell_type": "code",
   "execution_count": 38,
   "id": "5c7463b0",
   "metadata": {},
   "outputs": [
    {
     "data": {
      "text/html": [
       "<div>\n",
       "<style scoped>\n",
       "    .dataframe tbody tr th:only-of-type {\n",
       "        vertical-align: middle;\n",
       "    }\n",
       "\n",
       "    .dataframe tbody tr th {\n",
       "        vertical-align: top;\n",
       "    }\n",
       "\n",
       "    .dataframe thead th {\n",
       "        text-align: right;\n",
       "    }\n",
       "</style>\n",
       "<table border=\"1\" class=\"dataframe\">\n",
       "  <thead>\n",
       "    <tr style=\"text-align: right;\">\n",
       "      <th></th>\n",
       "      <th>Age</th>\n",
       "      <th>Fare</th>\n",
       "      <th>Family</th>\n",
       "      <th>Age_mean</th>\n",
       "      <th>Age_median</th>\n",
       "      <th>Fare_mean</th>\n",
       "      <th>Fare_median</th>\n",
       "    </tr>\n",
       "  </thead>\n",
       "  <tbody>\n",
       "    <tr>\n",
       "      <th>30</th>\n",
       "      <td>40.0</td>\n",
       "      <td>27.7208</td>\n",
       "      <td>0</td>\n",
       "      <td>40.000000</td>\n",
       "      <td>40.000000</td>\n",
       "      <td>27.7208</td>\n",
       "      <td>27.7208</td>\n",
       "    </tr>\n",
       "    <tr>\n",
       "      <th>10</th>\n",
       "      <td>4.0</td>\n",
       "      <td>16.7000</td>\n",
       "      <td>2</td>\n",
       "      <td>4.000000</td>\n",
       "      <td>4.000000</td>\n",
       "      <td>16.7000</td>\n",
       "      <td>16.7000</td>\n",
       "    </tr>\n",
       "    <tr>\n",
       "      <th>873</th>\n",
       "      <td>47.0</td>\n",
       "      <td>9.0000</td>\n",
       "      <td>0</td>\n",
       "      <td>47.000000</td>\n",
       "      <td>47.000000</td>\n",
       "      <td>9.0000</td>\n",
       "      <td>9.0000</td>\n",
       "    </tr>\n",
       "    <tr>\n",
       "      <th>182</th>\n",
       "      <td>9.0</td>\n",
       "      <td>31.3875</td>\n",
       "      <td>6</td>\n",
       "      <td>9.000000</td>\n",
       "      <td>9.000000</td>\n",
       "      <td>31.3875</td>\n",
       "      <td>31.3875</td>\n",
       "    </tr>\n",
       "    <tr>\n",
       "      <th>876</th>\n",
       "      <td>20.0</td>\n",
       "      <td>9.8458</td>\n",
       "      <td>0</td>\n",
       "      <td>20.000000</td>\n",
       "      <td>20.000000</td>\n",
       "      <td>9.8458</td>\n",
       "      <td>9.8458</td>\n",
       "    </tr>\n",
       "    <tr>\n",
       "      <th>...</th>\n",
       "      <td>...</td>\n",
       "      <td>...</td>\n",
       "      <td>...</td>\n",
       "      <td>...</td>\n",
       "      <td>...</td>\n",
       "      <td>...</td>\n",
       "      <td>...</td>\n",
       "    </tr>\n",
       "    <tr>\n",
       "      <th>534</th>\n",
       "      <td>30.0</td>\n",
       "      <td>8.6625</td>\n",
       "      <td>0</td>\n",
       "      <td>30.000000</td>\n",
       "      <td>30.000000</td>\n",
       "      <td>8.6625</td>\n",
       "      <td>8.6625</td>\n",
       "    </tr>\n",
       "    <tr>\n",
       "      <th>584</th>\n",
       "      <td>NaN</td>\n",
       "      <td>8.7125</td>\n",
       "      <td>0</td>\n",
       "      <td>29.785904</td>\n",
       "      <td>29.785904</td>\n",
       "      <td>8.7125</td>\n",
       "      <td>8.7125</td>\n",
       "    </tr>\n",
       "    <tr>\n",
       "      <th>493</th>\n",
       "      <td>71.0</td>\n",
       "      <td>49.5042</td>\n",
       "      <td>0</td>\n",
       "      <td>71.000000</td>\n",
       "      <td>71.000000</td>\n",
       "      <td>49.5042</td>\n",
       "      <td>49.5042</td>\n",
       "    </tr>\n",
       "    <tr>\n",
       "      <th>527</th>\n",
       "      <td>NaN</td>\n",
       "      <td>221.7792</td>\n",
       "      <td>0</td>\n",
       "      <td>29.785904</td>\n",
       "      <td>29.785904</td>\n",
       "      <td>221.7792</td>\n",
       "      <td>221.7792</td>\n",
       "    </tr>\n",
       "    <tr>\n",
       "      <th>168</th>\n",
       "      <td>NaN</td>\n",
       "      <td>25.9250</td>\n",
       "      <td>0</td>\n",
       "      <td>29.785904</td>\n",
       "      <td>29.785904</td>\n",
       "      <td>25.9250</td>\n",
       "      <td>25.9250</td>\n",
       "    </tr>\n",
       "  </tbody>\n",
       "</table>\n",
       "<p>712 rows × 7 columns</p>\n",
       "</div>"
      ],
      "text/plain": [
       "      Age      Fare  Family   Age_mean  Age_median  Fare_mean  Fare_median\n",
       "30   40.0   27.7208       0  40.000000   40.000000    27.7208      27.7208\n",
       "10    4.0   16.7000       2   4.000000    4.000000    16.7000      16.7000\n",
       "873  47.0    9.0000       0  47.000000   47.000000     9.0000       9.0000\n",
       "182   9.0   31.3875       6   9.000000    9.000000    31.3875      31.3875\n",
       "876  20.0    9.8458       0  20.000000   20.000000     9.8458       9.8458\n",
       "..    ...       ...     ...        ...         ...        ...          ...\n",
       "534  30.0    8.6625       0  30.000000   30.000000     8.6625       8.6625\n",
       "584   NaN    8.7125       0  29.785904   29.785904     8.7125       8.7125\n",
       "493  71.0   49.5042       0  71.000000   71.000000    49.5042      49.5042\n",
       "527   NaN  221.7792       0  29.785904   29.785904   221.7792     221.7792\n",
       "168   NaN   25.9250       0  29.785904   29.785904    25.9250      25.9250\n",
       "\n",
       "[712 rows x 7 columns]"
      ]
     },
     "execution_count": 38,
     "metadata": {},
     "output_type": "execute_result"
    }
   ],
   "source": [
    "x_train # check new columns"
   ]
  },
  {
   "cell_type": "code",
   "execution_count": 39,
   "id": "407a3310",
   "metadata": {},
   "outputs": [
    {
     "name": "stdout",
     "output_type": "stream",
     "text": [
      "Before imputation variance of age 204.3495133904614\n",
      "After imputation variance of mean age 161.81262452718673\n",
      "After imputation variance of median age 161.81262452718673\n"
     ]
    }
   ],
   "source": [
    "\"\"\"print(\"Before imputation variance of age\",x_train['Age'].var())\n",
    "print(\"After imputation variance of mean age\",x_train['Age_mean'].var())\n",
    "print(\"After imputation variance of median age\",x_train['Age_median'].var())\"\"\"\n"
   ]
  },
  {
   "cell_type": "code",
   "execution_count": 41,
   "id": "a47d9fe2",
   "metadata": {},
   "outputs": [
    {
     "name": "stdout",
     "output_type": "stream",
     "text": [
      "Before Imputation Age variance:  204.35\n",
      "After Imputation Age variance :  161.81\n",
      "After Imputation Age variance :  161.81\n"
     ]
    }
   ],
   "source": [
    "print(\"Before Imputation Age variance: \", round(x_train['Age'].var() ,2) )\n",
    "\n",
    "# age mean\n",
    "\n",
    "print(\"After Imputation Age variance : \", round(x_train['Age_mean'].var() , 2 ) )\n",
    "\n",
    "# age median\n",
    "\n",
    "print(\"After Imputation Age variance : \", round(x_train['Age_median'].var() , 2 ) )"
   ]
  },
  {
   "cell_type": "code",
   "execution_count": 40,
   "id": "0971f4b9",
   "metadata": {},
   "outputs": [
    {
     "name": "stdout",
     "output_type": "stream",
     "text": [
      "Before imputation variance of Fare 2448.197913706318\n",
      "After imputation variance of mean Fare 2324.2385256705547\n",
      "After imputation variance of median Fare 2324.2385256705547\n"
     ]
    }
   ],
   "source": [
    "\"\"\"print(\"Before imputation variance of Fare\",x_train['Fare'].var())\n",
    "print(\"After imputation variance of mean Fare\",x_train['Fare_mean'].var())\n",
    "print(\"After imputation variance of median Fare\",x_train['Fare_median'].var())\"\"\"\n"
   ]
  },
  {
   "cell_type": "code",
   "execution_count": 42,
   "id": "cb505011",
   "metadata": {},
   "outputs": [
    {
     "name": "stdout",
     "output_type": "stream",
     "text": [
      "Before Imputation Fare variance:  2448.2\n",
      "After Imputation Fare variance :  2324.24\n",
      "After Imputation Fare variance :  2324.24\n"
     ]
    }
   ],
   "source": [
    "print(\"Before Imputation Fare variance: \", round(x_train['Fare'].var() ,2) )\n",
    "\n",
    "# age mean\n",
    "\n",
    "print(\"After Imputation Fare variance : \", round(x_train['Fare_mean'].var() , 2 ) )\n",
    "\n",
    "# age median\n",
    "\n",
    "print(\"After Imputation Fare variance : \", round(x_train['Fare_median'].var() , 2 ) )"
   ]
  },
  {
   "cell_type": "code",
   "execution_count": 74,
   "id": "32ced43f",
   "metadata": {},
   "outputs": [
    {
     "data": {
      "text/plain": [
       "<matplotlib.legend.Legend at 0x13ea83a6a30>"
      ]
     },
     "execution_count": 74,
     "metadata": {},
     "output_type": "execute_result"
    },
    {
     "data": {
      "image/png": "[encoded data removed]",
      "text/plain": [
       "<Figure size 432x288 with 1 Axes>"
      ]
     },
     "metadata": {
      "needs_background": "light"
     },
     "output_type": "display_data"
    }
   ],
   "source": [
    "import matplotlib.pyplot as plt\n",
    "import seaborn as sns\n",
    "\n",
    "import warnings\n",
    "warnings.filterwarnings(\"ignore\")\n",
    "\n",
    "fig=plt.figure()\n",
    "ax=fig.add_subplot(111)\n",
    "x_train['Age'].plot(kind='kde',ax=ax) #Original Distribution\n",
    "\n",
    "# After Imputation with Mean\n",
    "x_train['Age_mean'].plot(kind='kde',ax=ax,color='Red')\n",
    "\n",
    "# After Imputation with Median\n",
    "x_train['Age_median'].plot(kind='kde',ax=ax,color='Green')\n",
    "\n",
    "# Adding legends\n",
    "lines,labels=ax.get_legend_handles_labels()\n",
    "ax.legend(lines,labels,loc='best')\n"
   ]
  },
  {
   "cell_type": "code",
   "execution_count": 75,
   "id": "40f1ae4e",
   "metadata": {},
   "outputs": [
    {
     "data": {
      "text/plain": [
       "'import matplotlib.pyplot as plt\\nimport seaborn as sns\\n\\nimport warnings\\nwarnings.filterwarnings(\"ignore\")\\n\\nsns.distplot(x_train[\\'Age\\'], hist = False, color = \"blue\")\\nsns.distplot(x_train[\\'Age_mean\\'], hist = False, color = \"orange\")\\nsns.distplot(x_train[\\'Age_median\\'], hist = False, color = \"green\")\\n\\nplt.legend(labels=[\\'Age\\', \\'Age_mean\\', \\'Age_median\\'])'"
      ]
     },
     "execution_count": 75,
     "metadata": {},
     "output_type": "execute_result"
    }
   ],
   "source": [
    "\"\"\"import matplotlib.pyplot as plt\n",
    "import seaborn as sns\n",
    "\n",
    "import warnings\n",
    "warnings.filterwarnings(\"ignore\")\n",
    "\n",
    "sns.distplot(x_train['Age'], hist = False, color = \"blue\")\n",
    "sns.distplot(x_train['Age_mean'], hist = False, color = \"orange\")\n",
    "sns.distplot(x_train['Age_median'], hist = False, color = \"green\")\n",
    "\n",
    "plt.legend(labels=['Age', 'Age_mean', 'Age_median'])\"\"\""
   ]
  },
  {
   "cell_type": "markdown",
   "id": "0659a355",
   "metadata": {},
   "source": [
    "**we can see that percentage of missing values of age column  is 19% , that's why after Imputation ,we can see in the above diagram that distribution has been completely changed from original position.**\n",
    "\n",
    "**So we cannot apply numericalImputation over here because it will gives us inaccurate results**"
   ]
  },
  {
   "cell_type": "code",
   "execution_count": 76,
   "id": "b88d14a8",
   "metadata": {},
   "outputs": [
    {
     "data": {
      "text/plain": [
       "<matplotlib.legend.Legend at 0x13ea8419fa0>"
      ]
     },
     "execution_count": 76,
     "metadata": {},
     "output_type": "execute_result"
    },
    {
     "data": {
      "image/png": "[encoded data removed]",
      "text/plain": [
       "<Figure size 432x288 with 1 Axes>"
      ]
     },
     "metadata": {
      "needs_background": "light"
     },
     "output_type": "display_data"
    }
   ],
   "source": [
    "# less than 5% missing value\n",
    "import matplotlib.pyplot as plt\n",
    "fig=plt.figure()\n",
    "ax=fig.add_subplot(111)\n",
    "x_train['Fare'].plot(kind='kde',ax=ax) #Original Distribution\n",
    "\n",
    "# After Imputation with Mean\n",
    "x_train['Fare_mean'].plot(kind='kde',ax=ax,color='Red')\n",
    "\n",
    "# After Imputation with Median\n",
    "x_train['Fare_median'].plot(kind='kde',ax=ax,color='Green')\n",
    "\n",
    "# Adding legends\n",
    "lines,labels=ax.get_legend_handles_labels()\n",
    "ax.legend(lines,labels,loc='best')"
   ]
  },
  {
   "cell_type": "code",
   "execution_count": 77,
   "id": "5ea79723",
   "metadata": {},
   "outputs": [
    {
     "data": {
      "text/plain": [
       "'import matplotlib.pyplot as plt\\nimport seaborn as sns\\n\\nimport warnings\\nwarnings.filterwarnings(\"ignore\")\\n\\nsns.distplot(x_train[\\'Fare\\'], hist = False, color = \"blue\")\\nsns.distplot(x_train[\\'Fare_mean\\'], hist = False, color = \"orange\")\\nsns.distplot(x_train[\\'Fare_median\\'], hist = False, color = \"green\")\\n\\nplt.legend(labels=[\\'Fare\\', \\'Fare_mean\\', \\'Fare_median\\'])'"
      ]
     },
     "execution_count": 77,
     "metadata": {},
     "output_type": "execute_result"
    }
   ],
   "source": [
    "\"\"\"import matplotlib.pyplot as plt\n",
    "import seaborn as sns\n",
    "\n",
    "import warnings\n",
    "warnings.filterwarnings(\"ignore\")\n",
    "\n",
    "sns.distplot(x_train['Fare'], hist = False, color = \"blue\")\n",
    "sns.distplot(x_train['Fare_mean'], hist = False, color = \"orange\")\n",
    "sns.distplot(x_train['Fare_median'], hist = False, color = \"green\")\n",
    "\n",
    "plt.legend(labels=['Fare', 'Fare_mean', 'Fare_median'])\"\"\""
   ]
  },
  {
   "cell_type": "markdown",
   "id": "bd204ff5",
   "metadata": {},
   "source": [
    "**we know that percentage of missing values of Fare column is 5% , that's why after Imputation ,we can see in the above diagram that the new distribution is almost same as the original distribution.**\n",
    "\n",
    "**So we can apply numericalImputation over here.**\n"
   ]
  },
  {
   "cell_type": "markdown",
   "id": "0665f5c7",
   "metadata": {},
   "source": [
    "**@To directly fill mean , median values**"
   ]
  },
  {
   "cell_type": "code",
   "execution_count": 78,
   "id": "8f471f66",
   "metadata": {},
   "outputs": [],
   "source": [
    "from sklearn.impute import SimpleImputer\n",
    "from sklearn.compose import ColumnTransformer"
   ]
  },
  {
   "cell_type": "code",
   "execution_count": 79,
   "id": "c4aed6d8",
   "metadata": {},
   "outputs": [],
   "source": [
    "imputer1=SimpleImputer(strategy='mean')\n",
    "imputer2=SimpleImputer(strategy='median')"
   ]
  },
  {
   "cell_type": "code",
   "execution_count": 80,
   "id": "bfdd59b3",
   "metadata": {},
   "outputs": [],
   "source": [
    "trf=ColumnTransformer([\n",
    "    ('imputer1',imputer1,['Age']),\n",
    "    ('imputer2',imputer2,['Age'])\n",
    "],remainder='passthrough')"
   ]
  },
  {
   "cell_type": "code",
   "execution_count": 81,
   "id": "cf438693",
   "metadata": {},
   "outputs": [
    {
     "data": {
      "text/plain": [
       "ColumnTransformer(remainder='passthrough',\n",
       "                  transformers=[('imputer1', SimpleImputer(), ['Age']),\n",
       "                                ('imputer2', SimpleImputer(strategy='median'),\n",
       "                                 ['Age'])])"
      ]
     },
     "execution_count": 81,
     "metadata": {},
     "output_type": "execute_result"
    }
   ],
   "source": [
    "trf.fit(df)"
   ]
  },
  {
   "cell_type": "code",
   "execution_count": 83,
   "id": "f1f616da",
   "metadata": {},
   "outputs": [
    {
     "data": {
      "text/plain": [
       "array([29.69911765])"
      ]
     },
     "execution_count": 83,
     "metadata": {},
     "output_type": "execute_result"
    }
   ],
   "source": [
    "# mean value of column\n",
    "trf.named_transformers_['imputer1'].statistics_"
   ]
  },
  {
   "cell_type": "code",
   "execution_count": 84,
   "id": "fce3a2b3",
   "metadata": {},
   "outputs": [
    {
     "data": {
      "text/plain": [
       "array([28.])"
      ]
     },
     "execution_count": 84,
     "metadata": {},
     "output_type": "execute_result"
    }
   ],
   "source": [
    "trf.named_transformers_['imputer2'].statistics_"
   ]
  },
  {
   "cell_type": "code",
   "execution_count": null,
   "id": "1ebd7515",
   "metadata": {},
   "outputs": [],
   "source": [
    "# Conclusion :- as we have taken two columns age an "
   ]
  },
  {
   "cell_type": "code",
   "execution_count": null,
   "id": "77620438",
   "metadata": {},
   "outputs": [],
   "source": [
    "# Assumption :- if you have more than 5% missing values in your dataset do not replace it with mean and median because it gives you\n",
    "# very much difference from original distribution."
   ]
  },
  {
   "cell_type": "markdown",
   "id": "46100c4b",
   "metadata": {},
   "source": [
    "**Assumption** : As we tried imputaion on above dataset, so now we can say that we can Apply Imputation where missing values of the columns are less than or equal to 5% & If missing values are more that 5% then after Imputation we will get incorrect results.\n",
    "\n",
    "**Conclusion** :\n",
    "\n",
    "To handle numerical imputaion we are doing this practice of imputing mean/median value at position of missing values.  \n",
    "As we have taken two columns Age and Fare for numerical imputaion of our data so, in above data Age column has 19% missing values, after applying Imputation on Age column the distribution of Age values is completely changed. So we cannot apply Imputation on Age column. it will gives us incorrect results. Similarly we had applied Imputation on Fare column where missing values are 5% and after Imputation distribution of fare values is almost same or similar, so we can apply Imputation over there to get more accurate results."
   ]
  },
  {
   "cell_type": "code",
   "execution_count": null,
   "id": "0ece6036",
   "metadata": {},
   "outputs": [],
   "source": []
  }
 ],
 "metadata": {
  "kernelspec": {
   "display_name": "Python 3 (ipykernel)",
   "language": "python",
   "name": "python3"
  },
  "language_info": {
   "codemirror_mode": {
    "name": "ipython",
    "version": 3
   },
   "file_extension": ".py",
   "mimetype": "text/x-python",
   "name": "python",
   "nbconvert_exporter": "python",
   "pygments_lexer": "ipython3",
   "version": "3.9.12"
  }
 },
 "nbformat": 4,
 "nbformat_minor": 5
}
